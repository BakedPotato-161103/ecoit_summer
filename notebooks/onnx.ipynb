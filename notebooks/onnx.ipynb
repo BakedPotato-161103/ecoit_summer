{
 "cells": [
  {
   "cell_type": "code",
   "execution_count": 1,
   "id": "4022ee52",
   "metadata": {},
   "outputs": [
    {
     "name": "stderr",
     "output_type": "stream",
     "text": [
      "/work/hpc/miniconda3/envs/layout/lib/python3.10/site-packages/paddle/utils/cpp_extension/extension_utils.py:717: UserWarning: No ccache found. Please be aware that recompiling all source files may be required. You can download and install ccache from: https://github.com/ccache/ccache/blob/master/doc/INSTALL.md\n",
      "  warnings.warn(warning_message)\n"
     ]
    }
   ],
   "source": [
    "import paddle\n",
    "import torch\n",
    "import onnxruntime as ort\n",
    "from onnxruntime.capi import _pybind_state as C"
   ]
  },
  {
   "cell_type": "code",
   "execution_count": null,
   "id": "cf708e19",
   "metadata": {},
   "outputs": [
    {
     "name": "stdout",
     "output_type": "stream",
     "text": [
      "['TensorrtExecutionProvider', 'CUDAExecutionProvider', 'CPUExecutionProvider']\n"
     ]
    },
    {
     "name": "stderr",
     "output_type": "stream",
     "text": [
      "\u001b[0;93m2025-09-05 14:12:54.916722470 [W:onnxruntime:, graph.cc:4454 CleanUnusedInitializersAndNodeArgs] Removing initializer 'p2o.pd_op.full.306.0'. It is not used by any node and should be removed from the model.\u001b[m\n",
      "\u001b[0;93m2025-09-05 14:12:54.916744859 [W:onnxruntime:, graph.cc:4454 CleanUnusedInitializersAndNodeArgs] Removing initializer 'p2o.pd_op.full.307.0'. It is not used by any node and should be removed from the model.\u001b[m\n",
      "\u001b[0;93m2025-09-05 14:12:54.916750126 [W:onnxruntime:, graph.cc:4454 CleanUnusedInitializersAndNodeArgs] Removing initializer 'p2o.pd_op.full.299.0'. It is not used by any node and should be removed from the model.\u001b[m\n",
      "\u001b[0;93m2025-09-05 14:12:54.916764752 [W:onnxruntime:, graph.cc:4454 CleanUnusedInitializersAndNodeArgs] Removing initializer 'p2o.pd_op.full_int_array.209.0'. It is not used by any node and should be removed from the model.\u001b[m\n",
      "\u001b[0;93m2025-09-05 14:12:54.916773575 [W:onnxruntime:, graph.cc:4454 CleanUnusedInitializersAndNodeArgs] Removing initializer 'p2o.pd_op.full.222.0'. It is not used by any node and should be removed from the model.\u001b[m\n",
      "\u001b[0;93m2025-09-05 14:12:54.916776776 [W:onnxruntime:, graph.cc:4454 CleanUnusedInitializersAndNodeArgs] Removing initializer 'p2o.pd_op.full_int_array.202.0'. It is not used by any node and should be removed from the model.\u001b[m\n",
      "\u001b[0;93m2025-09-05 14:12:54.916801010 [W:onnxruntime:, graph.cc:4454 CleanUnusedInitializersAndNodeArgs] Removing initializer 'p2o.pd_op.full_int_array.139.0'. It is not used by any node and should be removed from the model.\u001b[m\n",
      "\u001b[0;93m2025-09-05 14:12:54.916816076 [W:onnxruntime:, graph.cc:4454 CleanUnusedInitializersAndNodeArgs] Removing initializer 'p2o.pd_op.full_int_array.132.0'. It is not used by any node and should be removed from the model.\u001b[m\n",
      "\u001b[0;93m2025-09-05 14:12:54.916829053 [W:onnxruntime:, graph.cc:4454 CleanUnusedInitializersAndNodeArgs] Removing initializer 'p2o.pd_op.full_int_array.104.0'. It is not used by any node and should be removed from the model.\u001b[m\n",
      "\u001b[0;93m2025-09-05 14:12:54.916837169 [W:onnxruntime:, graph.cc:4454 CleanUnusedInitializersAndNodeArgs] Removing initializer 'p2o.pd_op.full.176.0'. It is not used by any node and should be removed from the model.\u001b[m\n",
      "\u001b[0;93m2025-09-05 14:12:54.916843327 [W:onnxruntime:, graph.cc:4454 CleanUnusedInitializersAndNodeArgs] Removing initializer 'p2o.pd_op.full.84.0'. It is not used by any node and should be removed from the model.\u001b[m\n",
      "\u001b[0;93m2025-09-05 14:12:54.916852186 [W:onnxruntime:, graph.cc:4454 CleanUnusedInitializersAndNodeArgs] Removing initializer 'p2o.pd_op.full.5.0'. It is not used by any node and should be removed from the model.\u001b[m\n",
      "\u001b[0;93m2025-09-05 14:12:54.916855529 [W:onnxruntime:, graph.cc:4454 CleanUnusedInitializersAndNodeArgs] Removing initializer 'eager_tmp_4_deepcopy_145'. It is not used by any node and should be removed from the model.\u001b[m\n",
      "\u001b[0;93m2025-09-05 14:12:54.916875932 [W:onnxruntime:, graph.cc:4454 CleanUnusedInitializersAndNodeArgs] Removing initializer 'p2o.pd_op.full_int_array.167.0'. It is not used by any node and should be removed from the model.\u001b[m\n",
      "\u001b[0;93m2025-09-05 14:12:54.916883239 [W:onnxruntime:, graph.cc:4454 CleanUnusedInitializersAndNodeArgs] Removing initializer 'linear_17.w_0_deepcopy_712'. It is not used by any node and should be removed from the model.\u001b[m\n",
      "\u001b[0;93m2025-09-05 14:12:54.916887485 [W:onnxruntime:, graph.cc:4454 CleanUnusedInitializersAndNodeArgs] Removing initializer 'p2o.pd_op.full.130.0'. It is not used by any node and should be removed from the model.\u001b[m\n",
      "\u001b[0;93m2025-09-05 14:12:54.916891700 [W:onnxruntime:, graph.cc:4454 CleanUnusedInitializersAndNodeArgs] Removing initializer 'p2o.pd_op.full.38.0'. It is not used by any node and should be removed from the model.\u001b[m\n",
      "\u001b[0;93m2025-09-05 14:12:54.916912925 [W:onnxruntime:, graph.cc:4454 CleanUnusedInitializersAndNodeArgs] Removing initializer 'p2o.pd_op.full.296.0'. It is not used by any node and should be removed from the model.\u001b[m\n",
      "\u001b[0;93m2025-09-05 14:12:54.916918615 [W:onnxruntime:, graph.cc:4454 CleanUnusedInitializersAndNodeArgs] Removing initializer 'eager_tmp_3_deepcopy_144'. It is not used by any node and should be removed from the model.\u001b[m\n",
      "\u001b[0;93m2025-09-05 14:12:54.916923901 [W:onnxruntime:, graph.cc:4454 CleanUnusedInitializersAndNodeArgs] Removing initializer 'p2o.pd_op.full.11.0'. It is not used by any node and should be removed from the model.\u001b[m\n",
      "\u001b[0;93m2025-09-05 14:12:54.916927013 [W:onnxruntime:, graph.cc:4454 CleanUnusedInitializersAndNodeArgs] Removing initializer 'embedding_0.w_0_deepcopy_695'. It is not used by any node and should be removed from the model.\u001b[m\n",
      "\u001b[0;93m2025-09-05 14:12:54.916940002 [W:onnxruntime:, graph.cc:4454 CleanUnusedInitializersAndNodeArgs] Removing initializer 'linear_17.b_0_deepcopy_713'. It is not used by any node and should be removed from the model.\u001b[m\n",
      "\u001b[0;93m2025-09-05 14:12:54.916943341 [W:onnxruntime:, graph.cc:4454 CleanUnusedInitializersAndNodeArgs] Removing initializer 'p2o.pd_op.full_int_array.244.0'. It is not used by any node and should be removed from the model.\u001b[m\n",
      "\u001b[0;93m2025-09-05 14:12:54.916948650 [W:onnxruntime:, graph.cc:4454 CleanUnusedInitializersAndNodeArgs] Removing initializer 'p2o.pd_op.full.1.0'. It is not used by any node and should be removed from the model.\u001b[m\n",
      "\u001b[0;93m2025-09-05 14:12:54.916952173 [W:onnxruntime:, graph.cc:4454 CleanUnusedInitializersAndNodeArgs] Removing initializer 'linear_21.w_0_deepcopy_720'. It is not used by any node and should be removed from the model.\u001b[m\n",
      "\u001b[0;93m2025-09-05 14:12:54.916963011 [W:onnxruntime:, graph.cc:4454 CleanUnusedInitializersAndNodeArgs] Removing initializer 'p2o.pd_op.full_int_array.97.0'. It is not used by any node and should be removed from the model.\u001b[m\n",
      "\u001b[0;93m2025-09-05 14:12:54.916966523 [W:onnxruntime:, graph.cc:4454 CleanUnusedInitializersAndNodeArgs] Removing initializer 'p2o.pd_op.full.12.0'. It is not used by any node and should be removed from the model.\u001b[m\n",
      "\u001b[0;93m2025-09-05 14:12:54.916982040 [W:onnxruntime:, graph.cc:4454 CleanUnusedInitializersAndNodeArgs] Removing initializer 'p2o.pd_op.full.9.0'. It is not used by any node and should be removed from the model.\u001b[m\n",
      "\u001b[0;93m2025-09-05 14:12:54.916988557 [W:onnxruntime:, graph.cc:4454 CleanUnusedInitializersAndNodeArgs] Removing initializer 'linear_19.w_0_deepcopy_716'. It is not used by any node and should be removed from the model.\u001b[m\n",
      "\u001b[0;93m2025-09-05 14:12:54.917005619 [W:onnxruntime:, graph.cc:4454 CleanUnusedInitializersAndNodeArgs] Removing initializer 'p2o.pd_op.full.3.0'. It is not used by any node and should be removed from the model.\u001b[m\n",
      "\u001b[0;93m2025-09-05 14:12:54.917023177 [W:onnxruntime:, graph.cc:4454 CleanUnusedInitializersAndNodeArgs] Removing initializer 'p2o.pd_op.full_int_array.237.0'. It is not used by any node and should be removed from the model.\u001b[m\n",
      "\u001b[0;93m2025-09-05 14:12:54.917032597 [W:onnxruntime:, graph.cc:4454 CleanUnusedInitializersAndNodeArgs] Removing initializer 'linear_18.b_0_deepcopy_715'. It is not used by any node and should be removed from the model.\u001b[m\n",
      "\u001b[0;93m2025-09-05 14:12:54.917035440 [W:onnxruntime:, graph.cc:4454 CleanUnusedInitializersAndNodeArgs] Removing initializer 'linear_19.b_0_deepcopy_717'. It is not used by any node and should be removed from the model.\u001b[m\n",
      "\u001b[0;93m2025-09-05 14:12:54.917039389 [W:onnxruntime:, graph.cc:4454 CleanUnusedInitializersAndNodeArgs] Removing initializer 'linear_20.b_0_deepcopy_719'. It is not used by any node and should be removed from the model.\u001b[m\n",
      "\u001b[0;93m2025-09-05 14:12:54.917042212 [W:onnxruntime:, graph.cc:4454 CleanUnusedInitializersAndNodeArgs] Removing initializer 'linear_20.w_0_deepcopy_718'. It is not used by any node and should be removed from the model.\u001b[m\n",
      "\u001b[0;93m2025-09-05 14:12:54.917045143 [W:onnxruntime:, graph.cc:4454 CleanUnusedInitializersAndNodeArgs] Removing initializer 'linear_21.b_0_deepcopy_721'. It is not used by any node and should be removed from the model.\u001b[m\n",
      "\u001b[0;93m2025-09-05 14:12:54.917055324 [W:onnxruntime:, graph.cc:4454 CleanUnusedInitializersAndNodeArgs] Removing initializer 'p2o.pd_op.full_int_array.174.0'. It is not used by any node and should be removed from the model.\u001b[m\n",
      "\u001b[0;93m2025-09-05 14:12:54.917065363 [W:onnxruntime:, graph.cc:4454 CleanUnusedInitializersAndNodeArgs] Removing initializer 'p2o.pd_op.full.10.0'. It is not used by any node and should be removed from the model.\u001b[m\n",
      "\u001b[0;93m2025-09-05 14:12:54.917076063 [W:onnxruntime:, graph.cc:4454 CleanUnusedInitializersAndNodeArgs] Removing initializer 'p2o.pd_op.full_int_array.0.0'. It is not used by any node and should be removed from the model.\u001b[m\n",
      "\u001b[0;93m2025-09-05 14:12:54.917078871 [W:onnxruntime:, graph.cc:4454 CleanUnusedInitializersAndNodeArgs] Removing initializer 'p2o.pd_op.full.0.0'. It is not used by any node and should be removed from the model.\u001b[m\n",
      "\u001b[0;93m2025-09-05 14:12:54.917081750 [W:onnxruntime:, graph.cc:4454 CleanUnusedInitializersAndNodeArgs] Removing initializer 'p2o.pd_op.full.2.0'. It is not used by any node and should be removed from the model.\u001b[m\n",
      "\u001b[0;93m2025-09-05 14:12:54.917084509 [W:onnxruntime:, graph.cc:4454 CleanUnusedInitializersAndNodeArgs] Removing initializer 'p2o.pd_op.full.4.0'. It is not used by any node and should be removed from the model.\u001b[m\n",
      "\u001b[0;93m2025-09-05 14:12:54.917087412 [W:onnxruntime:, graph.cc:4454 CleanUnusedInitializersAndNodeArgs] Removing initializer 'p2o.pd_op.full.6.0'. It is not used by any node and should be removed from the model.\u001b[m\n",
      "\u001b[0;93m2025-09-05 14:12:54.917091301 [W:onnxruntime:, graph.cc:4454 CleanUnusedInitializersAndNodeArgs] Removing initializer 'p2o.pd_op.full_int_array.69.0'. It is not used by any node and should be removed from the model.\u001b[m\n",
      "\u001b[0;93m2025-09-05 14:12:54.917097421 [W:onnxruntime:, graph.cc:4454 CleanUnusedInitializersAndNodeArgs] Removing initializer 'p2o.pd_op.full.13.0'. It is not used by any node and should be removed from the model.\u001b[m\n",
      "\u001b[0;93m2025-09-05 14:12:54.917101698 [W:onnxruntime:, graph.cc:4454 CleanUnusedInitializersAndNodeArgs] Removing initializer 'p2o.pd_op.full.8.0'. It is not used by any node and should be removed from the model.\u001b[m\n",
      "\u001b[0;93m2025-09-05 14:12:54.917111548 [W:onnxruntime:, graph.cc:4454 CleanUnusedInitializersAndNodeArgs] Removing initializer 'p2o.pd_op.full_int_array.32.0'. It is not used by any node and should be removed from the model.\u001b[m\n",
      "\u001b[0;93m2025-09-05 14:12:54.917126466 [W:onnxruntime:, graph.cc:4454 CleanUnusedInitializersAndNodeArgs] Removing initializer 'p2o.pd_op.full_int_array.62.0'. It is not used by any node and should be removed from the model.\u001b[m\n",
      "\u001b[0;93m2025-09-05 14:12:54.917142051 [W:onnxruntime:, graph.cc:4454 CleanUnusedInitializersAndNodeArgs] Removing initializer 'linear_18.w_0_deepcopy_714'. It is not used by any node and should be removed from the model.\u001b[m\n",
      "\u001b[0;93m2025-09-05 14:12:54.917145976 [W:onnxruntime:, graph.cc:4454 CleanUnusedInitializersAndNodeArgs] Removing initializer 'p2o.pd_op.full.268.0'. It is not used by any node and should be removed from the model.\u001b[m\n",
      "\u001b[0;93m2025-09-05 14:13:09.632573997 [W:onnxruntime:Default, tensorrt_execution_provider.h:91 log] [2025-09-05 05:13:09 WARNING] CUDA lazy loading is not enabled. Enabling it can significantly reduce device memory usage and speed up TensorRT initialization. See \"Lazy Loading\" section of CUDA documentation https://docs.nvidia.com/cuda/cuda-c-programming-guide/index.html#lazy-loading\u001b[m\n",
      "\u001b[0;93m2025-09-05 14:13:09.970532511 [W:onnxruntime:Default, tensorrt_execution_provider.h:91 log] [2025-09-05 05:13:09 WARNING] ModelImporter.cpp:804: Make sure output helper.slice.1 has Int64 binding.\u001b[m\n",
      "\u001b[0;93m2025-09-05 14:13:09.970557513 [W:onnxruntime:Default, tensorrt_execution_provider.h:91 log] [2025-09-05 05:13:09 WARNING] ModelImporter.cpp:804: Make sure output helper.slice.2 has Int64 binding.\u001b[m\n",
      "\u001b[0;93m2025-09-05 14:13:09.970568701 [W:onnxruntime:Default, tensorrt_execution_provider.h:91 log] [2025-09-05 05:13:09 WARNING] ModelImporter.cpp:804: Make sure ou"
     ]
    },
    {
     "name": "stderr",
     "output_type": "stream",
     "text": [
      "tput helper.slice.6 has Int64 binding.\u001b[m\n",
      "\u001b[0;93m2025-09-05 14:13:09.970981473 [W:onnxruntime:Default, tensorrt_execution_provider.h:91 log] [2025-09-05 05:13:09 WARNING] ModelImporter.cpp:804: Make sure output helper.slice.7 has Int64 binding.\u001b[m\n",
      "\u001b[0;93m2025-09-05 14:13:09.971138069 [W:onnxruntime:Default, tensorrt_execution_provider.h:91 log] [2025-09-05 05:13:09 WARNING] ModelImporter.cpp:804: Make sure output helper.slice.15 has Int64 binding.\u001b[m\n",
      "\u001b[0;93m2025-09-05 14:13:09.971191873 [W:onnxruntime:Default, tensorrt_execution_provider.h:91 log] [2025-09-05 05:13:09 WARNING] ModelImporter.cpp:804: Make sure output helper.slice.16 has Int64 binding.\u001b[m\n",
      "\u001b[0;93m2025-09-05 14:13:09.971293686 [W:onnxruntime:Default, tensorrt_execution_provider.h:91 log] [2025-09-05 05:13:09 WARNING] ModelImporter.cpp:804: Make sure output helper.slice.17 has Int64 binding.\u001b[m\n",
      "\u001b[0;93m2025-09-05 14:13:09.971435912 [W:onnxruntime:Default, tensorrt_execution_provider.h:91 log] [2025-09-05 05:13:09 WARNING] ModelImporter.cpp:804: Make sure output helper.slice.25 has Int64 binding.\u001b[m\n",
      "\u001b[0;93m2025-09-05 14:13:09.971472197 [W:onnxruntime:Default, tensorrt_execution_provider.h:91 log] [2025-09-05 05:13:09 WARNING] ModelImporter.cpp:804: Make sure output helper.slice.26 has Int64 binding.\u001b[m\n",
      "\u001b[0;93m2025-09-05 14:13:09.971567322 [W:onnxruntime:Default, tensorrt_execution_provider.h:91 log] [2025-09-05 05:13:09 WARNING] ModelImporter.cpp:804: Make sure output helper.slice.27 has Int64 binding.\u001b[m\n",
      "\u001b[0;93m2025-09-05 14:13:09.971701104 [W:onnxruntime:Default, tensorrt_execution_provider.h:91 log] [2025-09-05 05:13:09 WARNING] ModelImporter.cpp:804: Make sure output helper.slice.35 has Int64 binding.\u001b[m\n",
      "\u001b[0;93m2025-09-05 14:13:09.971734612 [W:onnxruntime:Default, tensorrt_execution_provider.h:91 log] [2025-09-05 05:13:09 WARNING] ModelImporter.cpp:804: Make sure output helper.slice.36 has Int64 binding.\u001b[m\n",
      "\u001b[0;93m2025-09-05 14:13:09.971818286 [W:onnxruntime:Default, tensorrt_execution_provider.h:91 log] [2025-09-05 05:13:09 WARNING] ModelImporter.cpp:804: Make sure output helper.slice.37 has Int64 binding.\u001b[m\n",
      "\u001b[0;93m2025-09-05 14:13:09.971954294 [W:onnxruntime:Default, tensorrt_execution_provider.h:91 log] [2025-09-05 05:13:09 WARNING] ModelImporter.cpp:804: Make sure output helper.slice.45 has Int64 binding.\u001b[m\n",
      "\u001b[0;93m2025-09-05 14:13:09.971983158 [W:onnxruntime:Default, tensorrt_execution_provider.h:91 log] [2025-09-05 05:13:09 WARNING] ModelImporter.cpp:804: Make sure output helper.slice.46 has Int64 binding.\u001b[m\n",
      "\u001b[0;93m2025-09-05 14:13:09.972062984 [W:onnxruntime:Default, tensorrt_execution_provider.h:91 log] [2025-09-05 05:13:09 WARNING] ModelImporter.cpp:804: Make sure output helper.slice.47 has Int64 binding.\u001b[m\n",
      "\u001b[0;93m2025-09-05 14:13:09.972185550 [W:onnxruntime:Default, tensorrt_execution_provider.h:91 log] [2025-09-05 05:13:09 WARNING] ModelImporter.cpp:804: Make sure output helper.slice.55 has Int64 binding.\u001b[m\n",
      "\u001b[0;93m2025-09-05 14:13:09.972215876 [W:onnxruntime:Default, tensorrt_execution_provider.h:91 log] [2025-09-05 05:13:09 WARNING] ModelImporter.cpp:804: Make sure output helper.slice.56 has Int64 binding.\u001b[m\n",
      "\u001b[0;93m2025-09-05 14:13:09.972298591 [W:onnxruntime:Default, tensorrt_execution_provider.h:91 log] [2025-09-05 05:13:09 WARNING] ModelImporter.cpp:804: Make sure output helper.slice.57 has Int64 binding.\u001b[m\n",
      "\u001b[0;93m2025-09-05 14:13:09.972425797 [W:onnxruntime:Default, tensorrt_execution_provider.h:91 log] [2025-09-05 05:13:09 WARNING] ModelImporter.cpp:804: Make sure output helper.slice.65 has Int64 binding.\u001b[m\n",
      "\u001b[0;93m2025-09-05 14:13:09.972451547 [W:onnxruntime:Default, tensorrt_execution_provider.h:91 log] [2025-09-05 05:13:09 WARNING] ModelImporter.cpp:804: Make sure output helper.slice.66 has Int64 binding.\u001b[m\n",
      "\u001b[0;93m2025-09-05 14:13:10.238574071 [W:onnxruntime:Default, tensorrt_execution_provider.h:91 log] [2025-09-05 05:13:10 WARNING] ModelImporter.cpp:804: Make sure output helper.slice.1 has Int64 binding.\u001b[m\n",
      "\u001b[0;93m2025-09-05 14:13:10.238598594 [W:onnxruntime:Default, tensorrt_execution_provider.h:91 log] [2025-09-05 05:13:10 WARNING] ModelImporter.cpp:804: Make sure output helper.slice.2 has Int64 binding.\u001b[m\n",
      "\u001b[0;93m2025-09-05 14:13:10.238614705 [W:onnxruntime:Default, tensorrt_execution_provider.h:91 log] [2025-09-05 05:13:10 WARNING] ModelImporter.cpp:804: Make sure output helper.slice.6 has Int64 binding.\u001b[m\n",
      "\u001b[0;93m2025-09-05 14:13:10.239200015 [W:onnxruntime:Default, tensorrt_execution_provider.h:91 log] [2025-09-05 05:13:10 WARNING] ModelImporter.cpp:804: Make sure output helper.slice.7 has Int64 binding.\u001b[m\n",
      "\u001b[0;93m2025-09-05 14:13:10.239359665 [W:onnxruntime:Default, tensorrt_execution_provider.h:91 log] [2025-09-05 05:13:10 WARNING] ModelImporter.cpp:804: Make sure output helper.slice.15 has Int64 binding.\u001b[m\n",
      "\u001b[0;93m2025-09-05 14:13:10.239395615 [W:onnxruntime:Default, tensorrt_execution_provider.h:91 log] [2025-09-05 05:13:10 WARNING] ModelImporter.cpp:804: Make sure output helper.slice.16 has Int64 binding.\u001b[m\n",
      "\u001b[0;93m2025-09-05 14:13:10.239495072 [W:onnxruntime:Default, tensorrt_execution_provider.h:91 log] [2025-09-05 05:13:10 WARNING] ModelImporter.cpp:804: Make sure output helper.slice.17 has Int64 binding.\u001b[m\n",
      "\u001b[0;93m2025-09-05 14:13:10.239638549 [W:onnxruntime:Default, tensorrt_execution_provider.h:91 log] [2025-09-05 05:13:10 WARNING] ModelImporter.cpp:804: Make sure output helper.slice.25 has Int64 binding.\u001b[m\n",
      "\u001b[0;93m2025-09-05 14:13:10.239674125 [W:onnxruntime:Default, tensorrt_execution_provider.h:91 log] [2025-09-05 05:13:10 WARNING] ModelImporter.cpp:804: Make sure output helper.slice.26 has Int64 binding.\u001b[m\n",
      "\u001b[0;93m2025-09-05 14:13:10.239788909 [W:onnxruntime:Default, tensorrt_execution_provider.h:91 log] [2025-09-05 05:13:10 WARNING] ModelImporter.cpp:804: Make sure output helper.slice.27 has Int64 binding.\u001b[m\n",
      "\u001b[0;93m2025-09-05 14:13:10.239951882 [W:onnxruntime:Default, tensorrt_execution_provider.h:91 log] [2025-09-05 05:13:10 WARNING] ModelImporter.cpp:804: Make sure output helper.slice.35 has Int64 binding.\u001b[m\n",
      "\u001b[0;93m2025-09-05 14:13:10.239987995 [W:onnxruntime:Default, tensorrt_execution_provider.h:91 log] [2025-09-05 05:13:10 WARNING] ModelImporter.cpp:804: Make sure output helper.slice.36 has Int64 binding.\u001b[m\n",
      "\u001b[0;93m2025-09-05 14:13:10.240088216 [W:onnxruntime:Default, tensorrt_execution_provider.h:91 log] [2025-09-05 05:13:10 WARNING] ModelImporter.cpp:804: Make sure output helper.slice.37 has Int64 binding.\u001b[m\n",
      "\u001b[0;93m2025-09-05 14:13:10.240239541 [W:onnxruntime:Default, tensorrt_execution_provider.h:91 log] [2025-09-05 05:13:10 WARNING] ModelImporter.cpp:804: Make sure output helper.slice.45 has Int64 binding.\u001b[m\n",
      "\u001b[0;93m2025-09-05 14:13:10.240278327 [W:onnxruntime:Default, tensorrt_execution_provider.h:91 log] [2025-09-05 05:13:10 WARNING] ModelImporter.cpp:804: Make sure output helper.slice.46 has Int64 binding.\u001b[m\n",
      "\u001b[0;93m2025-09-05 14:13:10.240380964 [W:onnxruntime:Default, tensorrt_execution_provider.h:91 log] [2025-09-05 05:13:10 WARNING] ModelImporter.cpp:804: Make sure output helper.slice.47 has Int64 binding.\u001b[m\n",
      "\u001b[0;93m2025-09-05 14:13:10.240531103 [W:onnxruntime:Default, tensorrt_execution_provider.h:91 log] [2025-09-05 05:13:10 WARNING] ModelImporter.cpp:804: Make sure output helper.slice.55 has Int64 binding.\u001b[m\n",
      "\u001b[0;93m2025-09-05 14:13:10.240562295 [W:onnxruntime:Default, tensorrt_execution_provider.h:91 log] [2025-09-05 05:13:10 WARNING] ModelImporter.cpp:804: Make sure output helper.slice.56 has Int64 binding.\u001b[m\n",
      "\u001b[0;93m2025-09-05 14:13:10.240649215 [W:onnxruntime:Default, tensorrt_execution_provider.h:91 log] [2025-09-05 05:13:10 WARNING] ModelImporter.cpp:804: Make sure output helper.slice.57 has Int64 binding.\u001b[m\n",
      "\u001b[0;93m2025-09-05 14:13:10.240802297 [W:onnxruntime:Default, tensorrt_execution_provider.h:91 log] [2025-09-05 05:13:10 WARNING] ModelImporter.cpp:804: Make sure output helper.slice.65 has Int64 binding.\u001b[m\n",
      "\u001b[0;93m2025-09-05 14:13:10.240839858 [W:onnxruntime:Default, tensorrt_execution_provider.h:91 log] [2025-09-05 05:13:10 WARNING] ModelImporter.cpp:804: Make sure output helper.slice.66 has Int64 binding.\u001b[m\n"
     ]
    }
   ],
   "source": [
    "available_providers = C.get_available_providers()\n",
    "print(available_providers)\n",
    "\n",
    "model = ort.InferenceSession(\n",
    "    \"/data/hpc/potato/ecoit_summer/venv/.cache/onnx/pp_doclayout_l.onnx\",\n",
    "    providers=available_providers,\n",
    ")"
   ]
  },
  {
   "cell_type": "code",
   "execution_count": null,
   "id": "32a2df00",
   "metadata": {},
   "outputs": [],
   "source": []
  }
 ],
 "metadata": {
  "kernelspec": {
   "display_name": "layout",
   "language": "python",
   "name": "python3"
  },
  "language_info": {
   "codemirror_mode": {
    "name": "ipython",
    "version": 3
   },
   "file_extension": ".py",
   "mimetype": "text/x-python",
   "name": "python",
   "nbconvert_exporter": "python",
   "pygments_lexer": "ipython3",
   "version": "3.10.18"
  }
 },
 "nbformat": 4,
 "nbformat_minor": 5
}
