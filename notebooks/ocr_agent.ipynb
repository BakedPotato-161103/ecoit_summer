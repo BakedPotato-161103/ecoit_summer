{
 "cells": [
  {
   "cell_type": "code",
   "execution_count": 1,
   "id": "8f2e289d",
   "metadata": {},
   "outputs": [
    {
     "name": "stderr",
     "output_type": "stream",
     "text": [
      "/work/hpc/miniconda3/envs/layout/lib/python3.10/site-packages/tqdm/auto.py:21: TqdmWarning: IProgress not found. Please update jupyter and ipywidgets. See https://ipywidgets.readthedocs.io/en/stable/user_install.html\n",
      "  from .autonotebook import tqdm as notebook_tqdm\n",
      "/work/hpc/miniconda3/envs/layout/lib/python3.10/site-packages/gdown/__init__.py:3: UserWarning: pkg_resources is deprecated as an API. See https://setuptools.pypa.io/en/latest/pkg_resources.html. The pkg_resources package is slated for removal as early as 2025-11-30. Refrain from using this package or pin to Setuptools<81.\n",
      "  import pkg_resources\n"
     ]
    }
   ],
   "source": [
    "import os\n",
    "from copy import deepcopy\n",
    "from PIL import Image, ImageDraw, ImageFont\n",
    "import numpy as np\n",
    "import cv2\n",
    "import pandas as pd\n",
    "from io import StringIO\n",
    "import matplotlib.pyplot as plt\n",
    "\n",
    "from doctr.utils.visualization import draw_boxes\n",
    "from pdf2image import convert_from_path\n",
    "\n",
    "import unstructured_pytesseract\n",
    "\n",
    "from unstructured.partition.utils.ocr_models.ecoit_ocr import OCRAgentECOIT\n",
    "from unstructured.partition.utils.ocr_models.ocr_interface import OCRAgent\n",
    "from unstructured.partition.utils.config import env_config\n",
    "from unstructured.partition.utils.constants import OCR_AGENT_PADDLE, OCR_AGENT_TESSERACT, OCR_AGENT_ECOIT, OCRMode\n",
    "\n"
   ]
  },
  {
   "cell_type": "code",
   "execution_count": 2,
   "id": "989b02fd",
   "metadata": {},
   "outputs": [
    {
     "name": "stdout",
     "output_type": "stream",
     "text": [
      "/data/hpc/potato/ecoit_summer\n"
     ]
    }
   ],
   "source": [
    "%cd /data/hpc/potato/ecoit_summer"
   ]
  },
  {
   "cell_type": "code",
   "execution_count": 3,
   "id": "c1fe2cd9",
   "metadata": {},
   "outputs": [
    {
     "name": "stdout",
     "output_type": "stream",
     "text": [
      "/data/hpc/potato/ecoit_summer\n",
      "env: OCR_AGENT=unstructured.partition.utils.ocr_models.ecoit_ocr.OCRAgentECOIT\n",
      "env: DOCTR_MODEL_NAME=linknet_resnet34\n",
      "env: DOCTR_THRESHOLD=0.0\n",
      "env: DOCTR_DEVICE=cuda:0\n",
      "env: DOCTR_DET_CLUSTER=True\n",
      "env: VIETOCR_MODEL_NAME=vgg_transformer\n",
      "env: VIETOCR_DEVICE=cuda:0\n",
      "env: VIETOCR_BATCH_SIZE=64\n",
      "env: VIETOCR_MAX_TEXT_WIDTH_RATIO=0.5\n",
      "env: VIETOCR_USE_BEAM_SEARCH=True\n"
     ]
    }
   ],
   "source": [
    "%cd /data/hpc/potato/ecoit_summer/\n",
    "%env OCR_AGENT=unstructured.partition.utils.ocr_models.ecoit_ocr.OCRAgentECOIT\n",
    "%env DOCTR_MODEL_NAME=linknet_resnet34\n",
    "%env DOCTR_THRESHOLD=0.0\n",
    "%env DOCTR_DEVICE=cuda:0\n",
    "%env DOCTR_DET_CLUSTER=True\n",
    "\n",
    "%env VIETOCR_MODEL_NAME=vgg_transformer\n",
    "%env VIETOCR_DEVICE=cuda:0\n",
    "%env VIETOCR_BATCH_SIZE=64\n",
    "%env VIETOCR_MAX_TEXT_WIDTH_RATIO=0.5\n",
    "%env VIETOCR_USE_BEAM_SEARCH=True"
   ]
  },
  {
   "cell_type": "code",
   "execution_count": 4,
   "id": "e44dbdde",
   "metadata": {},
   "outputs": [
    {
     "name": "stdout",
     "output_type": "stream",
     "text": [
      "/data/hpc/potato/ecoit_summer\n"
     ]
    }
   ],
   "source": [
    "%cd /data/hpc/potato/ecoit_summer"
   ]
  },
  {
   "cell_type": "code",
   "execution_count": 5,
   "id": "229db11a",
   "metadata": {},
   "outputs": [],
   "source": [
    "# images = convert_from_path(\"data/database/07_KT/2024.TTr phê duyệt TCKT Flycam.pdf\", thread_count=8, fmt='png', dpi=400, first_page=1)\n",
    "# for i, image in enumerate(images): \n",
    "#     image.save(f\"logs/doc/Flycam/{i:03d}.png\")"
   ]
  },
  {
   "cell_type": "code",
   "execution_count": 6,
   "id": "bf238302",
   "metadata": {},
   "outputs": [
    {
     "name": "stderr",
     "output_type": "stream",
     "text": [
      "/work/hpc/miniconda3/envs/layout/lib/python3.10/site-packages/torch/nn/modules/transformer.py:382: UserWarning: enable_nested_tensor is True, but self.use_nested_tensor is False because encoder_layer.self_attn.batch_first was not True(use batch_first for better inference performance)\n",
      "  warnings.warn(\n"
     ]
    },
    {
     "name": "stdout",
     "output_type": "stream",
     "text": [
      "Model weight /work/hpc/tmp/vgg_transformer.pth exsits. Ignore download!\n"
     ]
    }
   ],
   "source": [
    "model = OCRAgentECOIT()"
   ]
  },
  {
   "cell_type": "code",
   "execution_count": 7,
   "id": "a95973ff",
   "metadata": {},
   "outputs": [],
   "source": [
    "# pages = convert_from_path(\n",
    "#                             r\"./data/database/Báo cáo/Tieu chuan RMU 2017 5137.pdf\",\n",
    "#                             dpi=400,\n",
    "#                             use_pdftocairo=True,\n",
    "# )"
   ]
  },
  {
   "cell_type": "code",
   "execution_count": 8,
   "id": "a9ad1bd8",
   "metadata": {},
   "outputs": [],
   "source": [
    "# for i, page in enumerate(pages): \n",
    "#     page.save(f\"./logs/document_{i:03d}.png\")"
   ]
  },
  {
   "cell_type": "code",
   "execution_count": 9,
   "id": "907b6733",
   "metadata": {},
   "outputs": [],
   "source": [
    "index = 0\n",
    "image = Image.open(f\"./logs/doc/Flycam/{index:03d}.png\")"
   ]
  },
  {
   "cell_type": "code",
   "execution_count": 10,
   "id": "876fc86c",
   "metadata": {},
   "outputs": [
    {
     "name": "stderr",
     "output_type": "stream",
     "text": [
      "                                                                     \r"
     ]
    }
   ],
   "source": [
    "ocr_regions = model.get_layout_from_image(image)"
   ]
  },
  {
   "cell_type": "code",
   "execution_count": 11,
   "id": "adf05942",
   "metadata": {},
   "outputs": [
    {
     "data": {
      "text/plain": [
       "array(['TỔNG CÔNG TY', 'CỘNG HOÀ XÃ', 'HỘI CHỦ NGHĨA', 'VIỆT NAM',\n",
       "       'ĐIỆN LỰC TP HÀ', 'NỘI', 'Độc lập - Tự do - Hạnh', 'phúc',\n",
       "       'BAN KỸ THUẬT', 'Số: 07/KT', 'Hà Nội, ngày 07 tháng',\n",
       "       '01 năm 2025', 'TỜ TRÌNH', 'Về việc phê duyệt',\n",
       "       'tiêu chuẩn kỹ thuật', 'thiết bị bay không', 'người lái (UAV)',\n",
       "       'Kính gửi: Ông Phó', 'Tổng Giám đốc', 'Kỹ thuật',\n",
       "       'Căn cứ vào Quyết', 'Định số 8594/QĐ-EVNHANOI', 'ngày 06/12/2023',\n",
       "       'Tổng', 'Công ty Điện lực', 'TP Hà Nội về việc',\n",
       "       'giao danh muc mua', 'săm tài sản năm', '2024 đợt',\n",
       "       '2 cho Công ty Lưới', 'điện Cao thế thành', 'phố hà nội;',\n",
       "       'Ban Kỹ thuật kính', 'trình Tổng Giám', 'đốc phê duyệt tiêu',\n",
       "       'chuẩn kỹ thuật thiết', 'bị', 'bay không người',\n",
       "       'lái công nghiệp (UAV)', 'để tổ chức thực', 'hiện mua sắm bổ',\n",
       "       'sung trang', 'bị cho Công ty Lưới', 'điện cao thế TP',\n",
       "       'Hà Nội với các nội', 'dung sau:', '1 Các yêu cầu',\n",
       "       'chung về nhà sản', 'xuất', '- Nhà sản xuất phải có',\n",
       "       'chứng nhận quản', 'lý chất lượng ISO', 'hoặc tương đương.',\n",
       "       '- Nhà thầu phải', 'cung cấp đầy đủ', 'thông tin của sản',\n",
       "       'phẩm trong phần', 'thuyết', 'minh đáp ứng yêu', 'cầu kỹ thuật và',\n",
       "       'bảng phụ lục đặc', 'tính kỹ thuật cam', 'kết (của tập',\n",
       "       'tiêu chuẩn kỹ thuật', 'này), đồng thời',\n",
       "       'phải cung cấp Catalogue,', 'tài liệu kỹ thuật mô', 'tà',\n",
       "       'đây đủ các đặc', 'tính kỹ thuật, tính', 'năng làm việc, hình',\n",
       "       'ảnh minh họa chi', 'tiết; ghi rõ', 'khối lượng, kích',\n",
       "       'thước của thiết bị. Các', 'thông tin cung cấp,',\n",
       "       'các thông số kỹ thuật', 'cam kết phải được', 'thể hiện rõ trong',\n",
       "       'Catalogue của thiết', 'bị hoặc trên Website', 'chính',\n",
       "       'thức của nhà sản', 'xuất.', '2 Yêu cầu kỹ thuật', 'chung',\n",
       "       '- Thiết bị mới 100%;', 'được sản xuất không',\n",
       "       'quá 02 năm kể từ ngày', 'Nhà thầu đề xuất', 'trong gói thâu này.',\n",
       "       '- Toàn bộ thiết bị, phụ', 'kiện được cung', 'cấp phải được nhiệt',\n",
       "       'đới hóa và phù hợp', 'với', 'điều kiện làm việc', 'Ở Việt Nam.',\n",
       "       '- Các thiết bị khi', 'bàn giao phải cung', 'cấp các tài liệu kèm',\n",
       "       'theo:', '% Biên bản xuất', 'xưởng do nhà sản', 'xuất cung cấp.',\n",
       "       '? Tài liệu hướng', 'dẫn sử dụng (nếu', 'bằng Tiếng Anh',\n",
       "       'phải có bản dịch', 'sang', 'Tiếng Việt)', '? Các chứng chỉ',\n",
       "       'kiểm định thiết bị của', 'cơ quan thẩm định', 'có thẩm quyền',\n",
       "       'khẳng định thiết', 'bị đủ điều kiện đưa', 'vào sử dụng (nếu',\n",
       "       'có).', '2.1. Thiết bị bay', 'không người lái', '(UAV) cơ bản kèm',\n",
       "       'Camera ảnh màu', 'và Camera', 'ảnh nhiệt:', 'a. Thiết bị bay:'],\n",
       "      dtype='<U24')"
      ]
     },
     "execution_count": 11,
     "metadata": {},
     "output_type": "execute_result"
    }
   ],
   "source": [
    "ocr_regions.texts"
   ]
  },
  {
   "cell_type": "code",
   "execution_count": 12,
   "id": "0a3d75cd",
   "metadata": {},
   "outputs": [],
   "source": [
    "text_output = \"\\n\\n\".join(ocr_regions.texts)"
   ]
  },
  {
   "cell_type": "code",
   "execution_count": 13,
   "id": "24c729a1",
   "metadata": {},
   "outputs": [],
   "source": [
    "from typing import List, Optional, Tuple\n",
    "RGB = Tuple[int, int, int]\n",
    "def _auto_color(label: Optional[str]) -> RGB:\n",
    "    if not label:\n",
    "        return (0, 255, 0)\n",
    "    h = abs(hash(label))\n",
    "    return (50 + (h      ) % 206,\n",
    "            50 + (h // 7) % 206,\n",
    "            50 + (h // 13) % 206)\n",
    "\n",
    "def _text_color_for(bg: RGB) -> RGB:\n",
    "    return (0, 0, 0) \n",
    "\n",
    "def draw_bboxes_pil(\n",
    "    image: Image.Image,\n",
    "    boxes: List[Tuple[int, int, int, int]],   # [(x1,y1,x2,y2), ...] in pixels\n",
    "    labels: Optional[List[Optional[str]]] = None,\n",
    "    colors: Optional[List[Optional[RGB]]] = None,\n",
    "    thickness: int = 6,\n",
    "    font: Optional[ImageFont.FreeTypeFont] = None,\n",
    "    alpha: float = 0.25,                      # label background opacity\n",
    "    pad: int = 3,                             # label text padding\n",
    ") -> Image.Image:\n",
    "    \"\"\"\n",
    "    Draw axis-aligned boxes + labels on a PIL image. Returns a new image.\n",
    "    For full Vietnamese support, pass a TTF/OTF font that includes Vietnamese glyphs\n",
    "    (e.g., Noto Sans, DejaVu Sans, Roboto).\n",
    "    \"\"\"\n",
    "    if labels is None:\n",
    "        labels = [None] * len(boxes)\n",
    "    if colors is None:\n",
    "        colors = [None] * len(boxes)\n",
    "    assert len(labels) == len(boxes) and len(colors) == len(boxes)\n",
    "    font = font if font else ImageFont.truetype(\"./data/checkpoints/fonts/TIMES.TTF\")\n",
    "    base_mode = image.mode\n",
    "    base = image.convert(\"RGBA\")\n",
    "    draw = ImageDraw.Draw(base)\n",
    "    overlay = Image.new(\"RGBA\", base.size, (0, 0, 0, 0))\n",
    "    ovr = ImageDraw.Draw(overlay)\n",
    "\n",
    "    if font is None:\n",
    "        # Fallback: PIL default (ASCII). For Vietnamese, pass a TrueType font explicitly.\n",
    "        font = ImageFont.load_default()\n",
    "\n",
    "    for (x1, y1, x2, y2), label, color in zip(boxes, labels, colors):\n",
    "        c = color or _auto_color(label)\n",
    "        # Box outline\n",
    "        draw.rectangle([x1, y1, x2, y2], outline=(*c, 255), width=max(1, thickness))\n",
    "\n",
    "        if label:\n",
    "            # Measure text\n",
    "            # textbbox returns (l, t, r, b)\n",
    "            l, t, r, b = draw.textbbox((0, 0), label, font=font)\n",
    "            tw, th = r - l, b - t\n",
    "\n",
    "            # Prefer above the box; if not enough room, put inside/under\n",
    "            y_top = y1 - th - 2 * pad\n",
    "            y_bot = y1\n",
    "            if y_top < 0:\n",
    "                y_top = y1\n",
    "                y_bot = y1 + th + 2 * pad\n",
    "\n",
    "            x_left = x1\n",
    "            x_right = x1 + tw + 2 * pad\n",
    "\n",
    "            # Translucent background on overlay\n",
    "            ovr.rectangle(\n",
    "                [x_left, y_top, x_right, y_bot],\n",
    "                fill=(c[0], c[1], c[2], int(255 * max(0.0, min(1.0, alpha)))),\n",
    "            )\n",
    "\n",
    "            # Text (on base)\n",
    "            tc = _text_color_for(c)\n",
    "            print(label)\n",
    "            draw.text(\n",
    "                (x_left + pad, y_top + pad),\n",
    "                label,\n",
    "                font=font,\n",
    "                fill=(*tc, 255),\n",
    "            )\n",
    "\n",
    "    # Composite overlay and return to original mode\n",
    "    out = Image.alpha_composite(base, overlay).convert(base_mode)\n",
    "    return out"
   ]
  },
  {
   "cell_type": "code",
   "execution_count": 14,
   "id": "ab69346a",
   "metadata": {},
   "outputs": [
    {
     "name": "stdout",
     "output_type": "stream",
     "text": [
      "TỔNG CÔNG TY\n",
      "CỘNG HOÀ XÃ\n",
      "HỘI CHỦ NGHĨA\n",
      "VIỆT NAM\n",
      "ĐIỆN LỰC TP HÀ\n",
      "NỘI\n",
      "Độc lập - Tự do - Hạnh\n",
      "phúc\n",
      "BAN KỸ THUẬT\n",
      "Số: 07/KT\n",
      "Hà Nội, ngày 07 tháng\n",
      "01 năm 2025\n",
      "TỜ TRÌNH\n",
      "Về việc phê duyệt\n",
      "tiêu chuẩn kỹ thuật\n",
      "thiết bị bay không\n",
      "người lái (UAV)\n",
      "Kính gửi: Ông Phó\n",
      "Tổng Giám đốc\n",
      "Kỹ thuật\n",
      "Căn cứ vào Quyết\n",
      "Định số 8594/QĐ-EVNHANOI\n",
      "ngày 06/12/2023\n",
      "Tổng\n",
      "Công ty Điện lực\n",
      "TP Hà Nội về việc\n",
      "giao danh muc mua\n",
      "săm tài sản năm\n",
      "2024 đợt\n",
      "2 cho Công ty Lưới\n",
      "điện Cao thế thành\n",
      "phố hà nội;\n",
      "Ban Kỹ thuật kính\n",
      "trình Tổng Giám\n",
      "đốc phê duyệt tiêu\n",
      "chuẩn kỹ thuật thiết\n",
      "bị\n",
      "bay không người\n",
      "lái công nghiệp (UAV)\n",
      "để tổ chức thực\n",
      "hiện mua sắm bổ\n",
      "sung trang\n",
      "bị cho Công ty Lưới\n",
      "điện cao thế TP\n",
      "Hà Nội với các nội\n",
      "dung sau:\n",
      "1 Các yêu cầu\n",
      "chung về nhà sản\n",
      "xuất\n",
      "- Nhà sản xuất phải có\n",
      "chứng nhận quản\n",
      "lý chất lượng ISO\n",
      "hoặc tương đương.\n",
      "- Nhà thầu phải\n",
      "cung cấp đầy đủ\n",
      "thông tin của sản\n",
      "phẩm trong phần\n",
      "thuyết\n",
      "minh đáp ứng yêu\n",
      "cầu kỹ thuật và\n",
      "bảng phụ lục đặc\n",
      "tính kỹ thuật cam\n",
      "kết (của tập\n",
      "tiêu chuẩn kỹ thuật\n",
      "này), đồng thời\n",
      "phải cung cấp Catalogue,\n",
      "tài liệu kỹ thuật mô\n",
      "tà\n",
      "đây đủ các đặc\n",
      "tính kỹ thuật, tính\n",
      "năng làm việc, hình\n",
      "ảnh minh họa chi\n",
      "tiết; ghi rõ\n",
      "khối lượng, kích\n",
      "thước của thiết bị. Các\n",
      "thông tin cung cấp,\n",
      "các thông số kỹ thuật\n",
      "cam kết phải được\n",
      "thể hiện rõ trong\n",
      "Catalogue của thiết\n",
      "bị hoặc trên Website\n",
      "chính\n",
      "thức của nhà sản\n",
      "xuất.\n",
      "2 Yêu cầu kỹ thuật\n",
      "chung\n",
      "- Thiết bị mới 100%;\n",
      "được sản xuất không\n",
      "quá 02 năm kể từ ngày\n",
      "Nhà thầu đề xuất\n",
      "trong gói thâu này.\n",
      "- Toàn bộ thiết bị, phụ\n",
      "kiện được cung\n",
      "cấp phải được nhiệt\n",
      "đới hóa và phù hợp\n",
      "với\n",
      "điều kiện làm việc\n",
      "Ở Việt Nam.\n",
      "- Các thiết bị khi\n",
      "bàn giao phải cung\n",
      "cấp các tài liệu kèm\n",
      "theo:\n",
      "% Biên bản xuất\n",
      "xưởng do nhà sản\n",
      "xuất cung cấp.\n",
      "? Tài liệu hướng\n",
      "dẫn sử dụng (nếu\n",
      "bằng Tiếng Anh\n",
      "phải có bản dịch\n",
      "sang\n",
      "Tiếng Việt)\n",
      "? Các chứng chỉ\n",
      "kiểm định thiết bị của\n",
      "cơ quan thẩm định\n",
      "có thẩm quyền\n",
      "khẳng định thiết\n",
      "bị đủ điều kiện đưa\n",
      "vào sử dụng (nếu\n",
      "có).\n",
      "2.1. Thiết bị bay\n",
      "không người lái\n",
      "(UAV) cơ bản kèm\n",
      "Camera ảnh màu\n",
      "và Camera\n",
      "ảnh nhiệt:\n",
      "a. Thiết bị bay:\n"
     ]
    }
   ],
   "source": [
    "np_image = draw_bboxes_pil(image, ocr_regions.element_coords, labels=ocr_regions.texts)"
   ]
  },
  {
   "cell_type": "code",
   "execution_count": 15,
   "id": "186c0d61",
   "metadata": {},
   "outputs": [],
   "source": [
    "# quads = []\n",
    "# lines = []\n",
    "# # To BGR format\n",
    "# np_image = image.copy()\n",
    "# print(np_image.size)\n",
    "# # figure = np_image.cpy()\n",
    "# low_poly = []\n",
    "# low_char = []\n",
    "# xy_shape = list(np_image.size)\n",
    "# xy_shape.extend(xy_shape)\n",
    "# for block in page.blocks:\n",
    "#     for line in block.lines:\n",
    "#         content = \"\"\n",
    "#         for word in line.words:\n",
    "#             label = f\"{word.confidence:.2f}: \" + word.value\n",
    "#             content += \" \" + word.value\n",
    "#             # word.geometry is a 4-point quadrilateral ((x,y) in [0,1])\n",
    "#             if word.confidence < 0.7:\n",
    "#                 low_char.append(label)\n",
    "#                 low_poly.append(np.array(word.geometry).flatten())\n",
    "#             quads.append((np.array(word.geometry).flatten() * xy_shape).astype(int))\n",
    "#             np_image = draw_bboxes_pil(np_image, [quads[-1].copy().tolist()], labels = [label])\n",
    "#         lines.append(content)\n",
    "# quads = np.stack(quads, axis=0)\n",
    "# low_poly = np.stack(low_poly, axis=0)\n",
    "# print(lines)\n",
    "# plt.imshow(np_image)\n",
    "# plt.axis(\"off\")\n",
    "# plt.show()"
   ]
  },
  {
   "cell_type": "code",
   "execution_count": 16,
   "id": "6afed4f6",
   "metadata": {},
   "outputs": [],
   "source": [
    "# patches = model.crop_patches(np.asarray(image), low_poly, issorted=False, padding=(10, 0))"
   ]
  },
  {
   "cell_type": "code",
   "execution_count": 17,
   "id": "71503808",
   "metadata": {},
   "outputs": [],
   "source": [
    "np_image.save(\"./logs/test/rec_res.png\")"
   ]
  },
  {
   "cell_type": "code",
   "execution_count": 18,
   "id": "775dbb1b",
   "metadata": {},
   "outputs": [
    {
     "ename": "NameError",
     "evalue": "name 'lines' is not defined",
     "output_type": "error",
     "traceback": [
      "\u001b[0;31m---------------------------------------------------------------------------\u001b[0m",
      "\u001b[0;31mNameError\u001b[0m                                 Traceback (most recent call last)",
      "Cell \u001b[0;32mIn[18], line 2\u001b[0m\n\u001b[1;32m      1\u001b[0m \u001b[38;5;28;01mwith\u001b[39;00m \u001b[38;5;28mopen\u001b[39m(\u001b[38;5;124m\"\u001b[39m\u001b[38;5;124m./logs/test/ocr_res.txt\u001b[39m\u001b[38;5;124m\"\u001b[39m, \u001b[38;5;124m\"\u001b[39m\u001b[38;5;124mw\u001b[39m\u001b[38;5;124m\"\u001b[39m) \u001b[38;5;28;01mas\u001b[39;00m file:\n\u001b[0;32m----> 2\u001b[0m         file\u001b[38;5;241m.\u001b[39mwrite(\u001b[38;5;124m\"\u001b[39m\u001b[38;5;130;01m\\n\u001b[39;00m\u001b[38;5;124m\"\u001b[39m\u001b[38;5;241m.\u001b[39mjoin(\u001b[43mlines\u001b[49m))\n",
      "\u001b[0;31mNameError\u001b[0m: name 'lines' is not defined"
     ]
    }
   ],
   "source": [
    "with open(\"./logs/test/ocr_res.txt\", \"w\") as file:\n",
    "        file.write(\"\\n\".join(lines))"
   ]
  },
  {
   "cell_type": "code",
   "execution_count": null,
   "id": "76cf9789",
   "metadata": {},
   "outputs": [
    {
     "data": {
      "text/plain": [
       "True"
      ]
     },
     "execution_count": 14,
     "metadata": {},
     "output_type": "execute_result"
    }
   ],
   "source": [
    "model.det_cluster"
   ]
  },
  {
   "cell_type": "code",
   "execution_count": null,
   "id": "372432c5",
   "metadata": {},
   "outputs": [
    {
     "name": "stdout",
     "output_type": "stream",
     "text": [
      "level\tpage_num\tblock_num\tpar_num\tline_num\tword_num\tleft\ttop\twidth\theight\tconf\ttext\n",
      "1\t1\t0\t0\t0\t0\t0\t0\t79\t91\t-1\t\n",
      "2\t1\t1\t0\t0\t0\t19\t19\t41\t53\t-1\t\n",
      "3\t1\t1\t1\t0\t0\t19\t19\t41\t53\t-1\t\n",
      "4\t1\t1\t1\t1\t0\t19\t19\t41\t53\t-1\t\n",
      "5\t1\t1\t1\t1\t1\t19\t19\t41\t53\t93.092545\t>\n",
      "\n"
     ]
    }
   ],
   "source": [
    "data = unstructured_pytesseract.image_to_data(patches[1][0], config=r'--psm 8 --oem 1')\n",
    "print(data)"
   ]
  },
  {
   "cell_type": "code",
   "execution_count": null,
   "id": "1bd2ecb1",
   "metadata": {},
   "outputs": [],
   "source": []
  },
  {
   "cell_type": "code",
   "execution_count": null,
   "id": "37a44e97",
   "metadata": {},
   "outputs": [],
   "source": [
    "table = pd.read_csv(StringIO(data), sep=\"\\t\")"
   ]
  },
  {
   "cell_type": "code",
   "execution_count": null,
   "id": "5c7fcf24",
   "metadata": {},
   "outputs": [
    {
     "data": {
      "text/html": [
       "<div>\n",
       "<style scoped>\n",
       "    .dataframe tbody tr th:only-of-type {\n",
       "        vertical-align: middle;\n",
       "    }\n",
       "\n",
       "    .dataframe tbody tr th {\n",
       "        vertical-align: top;\n",
       "    }\n",
       "\n",
       "    .dataframe thead th {\n",
       "        text-align: right;\n",
       "    }\n",
       "</style>\n",
       "<table border=\"1\" class=\"dataframe\">\n",
       "  <thead>\n",
       "    <tr style=\"text-align: right;\">\n",
       "      <th></th>\n",
       "      <th>level</th>\n",
       "      <th>page_num</th>\n",
       "      <th>block_num</th>\n",
       "      <th>par_num</th>\n",
       "      <th>line_num</th>\n",
       "      <th>word_num</th>\n",
       "      <th>left</th>\n",
       "      <th>top</th>\n",
       "      <th>width</th>\n",
       "      <th>height</th>\n",
       "      <th>conf</th>\n",
       "      <th>text</th>\n",
       "    </tr>\n",
       "  </thead>\n",
       "  <tbody>\n",
       "    <tr>\n",
       "      <th>0</th>\n",
       "      <td>1</td>\n",
       "      <td>1</td>\n",
       "      <td>0</td>\n",
       "      <td>0</td>\n",
       "      <td>0</td>\n",
       "      <td>0</td>\n",
       "      <td>0</td>\n",
       "      <td>0</td>\n",
       "      <td>79</td>\n",
       "      <td>91</td>\n",
       "      <td>-1.000000</td>\n",
       "      <td>NaN</td>\n",
       "    </tr>\n",
       "    <tr>\n",
       "      <th>1</th>\n",
       "      <td>2</td>\n",
       "      <td>1</td>\n",
       "      <td>1</td>\n",
       "      <td>0</td>\n",
       "      <td>0</td>\n",
       "      <td>0</td>\n",
       "      <td>19</td>\n",
       "      <td>19</td>\n",
       "      <td>41</td>\n",
       "      <td>53</td>\n",
       "      <td>-1.000000</td>\n",
       "      <td>NaN</td>\n",
       "    </tr>\n",
       "    <tr>\n",
       "      <th>2</th>\n",
       "      <td>3</td>\n",
       "      <td>1</td>\n",
       "      <td>1</td>\n",
       "      <td>1</td>\n",
       "      <td>0</td>\n",
       "      <td>0</td>\n",
       "      <td>19</td>\n",
       "      <td>19</td>\n",
       "      <td>41</td>\n",
       "      <td>53</td>\n",
       "      <td>-1.000000</td>\n",
       "      <td>NaN</td>\n",
       "    </tr>\n",
       "    <tr>\n",
       "      <th>3</th>\n",
       "      <td>4</td>\n",
       "      <td>1</td>\n",
       "      <td>1</td>\n",
       "      <td>1</td>\n",
       "      <td>1</td>\n",
       "      <td>0</td>\n",
       "      <td>19</td>\n",
       "      <td>19</td>\n",
       "      <td>41</td>\n",
       "      <td>53</td>\n",
       "      <td>-1.000000</td>\n",
       "      <td>NaN</td>\n",
       "    </tr>\n",
       "    <tr>\n",
       "      <th>4</th>\n",
       "      <td>5</td>\n",
       "      <td>1</td>\n",
       "      <td>1</td>\n",
       "      <td>1</td>\n",
       "      <td>1</td>\n",
       "      <td>1</td>\n",
       "      <td>19</td>\n",
       "      <td>19</td>\n",
       "      <td>41</td>\n",
       "      <td>53</td>\n",
       "      <td>93.092545</td>\n",
       "      <td>&gt;</td>\n",
       "    </tr>\n",
       "  </tbody>\n",
       "</table>\n",
       "</div>"
      ],
      "text/plain": [
       "   level  page_num  block_num  par_num  line_num  word_num  left  top  width  \\\n",
       "0      1         1          0        0         0         0     0    0     79   \n",
       "1      2         1          1        0         0         0    19   19     41   \n",
       "2      3         1          1        1         0         0    19   19     41   \n",
       "3      4         1          1        1         1         0    19   19     41   \n",
       "4      5         1          1        1         1         1    19   19     41   \n",
       "\n",
       "   height       conf text  \n",
       "0      91  -1.000000  NaN  \n",
       "1      53  -1.000000  NaN  \n",
       "2      53  -1.000000  NaN  \n",
       "3      53  -1.000000  NaN  \n",
       "4      53  93.092545    >  "
      ]
     },
     "execution_count": 17,
     "metadata": {},
     "output_type": "execute_result"
    }
   ],
   "source": [
    "table"
   ]
  },
  {
   "cell_type": "code",
   "execution_count": null,
   "id": "e61e4e93",
   "metadata": {},
   "outputs": [
    {
     "data": {
      "text/html": [
       "<div>\n",
       "<style scoped>\n",
       "    .dataframe tbody tr th:only-of-type {\n",
       "        vertical-align: middle;\n",
       "    }\n",
       "\n",
       "    .dataframe tbody tr th {\n",
       "        vertical-align: top;\n",
       "    }\n",
       "\n",
       "    .dataframe thead th {\n",
       "        text-align: right;\n",
       "    }\n",
       "</style>\n",
       "<table border=\"1\" class=\"dataframe\">\n",
       "  <thead>\n",
       "    <tr style=\"text-align: right;\">\n",
       "      <th></th>\n",
       "      <th>level</th>\n",
       "      <th>page_num</th>\n",
       "      <th>block_num</th>\n",
       "      <th>par_num</th>\n",
       "      <th>line_num</th>\n",
       "      <th>word_num</th>\n",
       "      <th>left</th>\n",
       "      <th>top</th>\n",
       "      <th>width</th>\n",
       "      <th>height</th>\n",
       "      <th>conf</th>\n",
       "      <th>text</th>\n",
       "    </tr>\n",
       "  </thead>\n",
       "  <tbody>\n",
       "    <tr>\n",
       "      <th>4</th>\n",
       "      <td>5</td>\n",
       "      <td>1</td>\n",
       "      <td>1</td>\n",
       "      <td>1</td>\n",
       "      <td>1</td>\n",
       "      <td>1</td>\n",
       "      <td>19</td>\n",
       "      <td>19</td>\n",
       "      <td>41</td>\n",
       "      <td>53</td>\n",
       "      <td>93.092545</td>\n",
       "      <td>&gt;</td>\n",
       "    </tr>\n",
       "  </tbody>\n",
       "</table>\n",
       "</div>"
      ],
      "text/plain": [
       "   level  page_num  block_num  par_num  line_num  word_num  left  top  width  \\\n",
       "4      5         1          1        1         1         1    19   19     41   \n",
       "\n",
       "   height       conf text  \n",
       "4      53  93.092545    >  "
      ]
     },
     "execution_count": 18,
     "metadata": {},
     "output_type": "execute_result"
    }
   ],
   "source": [
    "table.dropna()"
   ]
  },
  {
   "cell_type": "code",
   "execution_count": null,
   "id": "a938743a",
   "metadata": {},
   "outputs": [],
   "source": [
    "from functools import partial"
   ]
  },
  {
   "cell_type": "code",
   "execution_count": null,
   "id": "26136a62",
   "metadata": {},
   "outputs": [
    {
     "data": {
      "image/png": "[encoded data removed]",
      "text/plain": [
       "<Figure size 640x480 with 1 Axes>"
      ]
     },
     "metadata": {},
     "output_type": "display_data"
    },
    {
     "data": {
      "image/png": "[encoded data removed]",
      "text/plain": [
       "<Figure size 640x480 with 1 Axes>"
      ]
     },
     "metadata": {},
     "output_type": "display_data"
    },
    {
     "data": {
      "image/png": "[encoded data removed]",
      "text/plain": [
       "<Figure size 640x480 with 1 Axes>"
      ]
     },
     "metadata": {},
     "output_type": "display_data"
    },
    {
     "data": {
      "image/png": "[encoded data removed]",
      "text/plain": [
       "<Figure size 640x480 with 1 Axes>"
      ]
     },
     "metadata": {},
     "output_type": "display_data"
    },
    {
     "data": {
      "image/png": "[encoded data removed]",
      "text/plain": [
       "<Figure size 640x480 with 1 Axes>"
      ]
     },
     "metadata": {},
     "output_type": "display_data"
    },
    {
     "data": {
      "image/png": "[encoded data removed]",
      "text/plain": [
       "<Figure size 640x480 with 1 Axes>"
      ]
     },
     "metadata": {},
     "output_type": "display_data"
    },
    {
     "data": {
      "image/png": "[encoded data removed]",
      "text/plain": [
       "<Figure size 640x480 with 1 Axes>"
      ]
     },
     "metadata": {},
     "output_type": "display_data"
    },
    {
     "data": {
      "image/png": "[encoded data removed]",
      "text/plain": [
       "<Figure size 640x480 with 1 Axes>"
      ]
     },
     "metadata": {},
     "output_type": "display_data"
    },
    {
     "data": {
      "image/png": "[encoded data removed]",
      "text/plain": [
       "<Figure size 640x480 with 1 Axes>"
      ]
     },
     "metadata": {},
     "output_type": "display_data"
    },
    {
     "data": {
      "image/png": "[encoded data removed]",
      "text/plain": [
       "<Figure size 640x480 with 1 Axes>"
      ]
     },
     "metadata": {},
     "output_type": "display_data"
    }
   ],
   "source": [
    "tab = []\n",
    "for pred, patch in zip(low_char, patches[1]):\n",
    "    data = unstructured_pytesseract.image_to_data(patch, config=r'--psm 8 --oem 1 -l vie')\n",
    "    table = pd.read_csv(StringIO(data), sep='\\t').dropna()\n",
    "    plt.title(f\"Orginal:{pred} Pred: {table[['text', 'conf']].astype(str).values.tolist()}\")\n",
    "    plt.imshow(patch)\n",
    "    plt.pause(0.5)\n",
    "    tab.append(table)"
   ]
  },
  {
   "cell_type": "code",
   "execution_count": null,
   "id": "14672809",
   "metadata": {},
   "outputs": [],
   "source": [
    "tab = pd.concat(tab)"
   ]
  },
  {
   "cell_type": "code",
   "execution_count": null,
   "id": "f52611e1",
   "metadata": {},
   "outputs": [
    {
     "data": {
      "text/html": [
       "<div>\n",
       "<style scoped>\n",
       "    .dataframe tbody tr th:only-of-type {\n",
       "        vertical-align: middle;\n",
       "    }\n",
       "\n",
       "    .dataframe tbody tr th {\n",
       "        vertical-align: top;\n",
       "    }\n",
       "\n",
       "    .dataframe thead th {\n",
       "        text-align: right;\n",
       "    }\n",
       "</style>\n",
       "<table border=\"1\" class=\"dataframe\">\n",
       "  <thead>\n",
       "    <tr style=\"text-align: right;\">\n",
       "      <th></th>\n",
       "      <th>level</th>\n",
       "      <th>page_num</th>\n",
       "      <th>block_num</th>\n",
       "      <th>par_num</th>\n",
       "      <th>line_num</th>\n",
       "      <th>word_num</th>\n",
       "      <th>left</th>\n",
       "      <th>top</th>\n",
       "      <th>width</th>\n",
       "      <th>height</th>\n",
       "      <th>conf</th>\n",
       "      <th>text</th>\n",
       "    </tr>\n",
       "  </thead>\n",
       "  <tbody>\n",
       "    <tr>\n",
       "      <th>4</th>\n",
       "      <td>5</td>\n",
       "      <td>1</td>\n",
       "      <td>1</td>\n",
       "      <td>1</td>\n",
       "      <td>1</td>\n",
       "      <td>1</td>\n",
       "      <td>19</td>\n",
       "      <td>19</td>\n",
       "      <td>41</td>\n",
       "      <td>53</td>\n",
       "      <td>92.985947</td>\n",
       "      <td>&gt;</td>\n",
       "    </tr>\n",
       "    <tr>\n",
       "      <th>4</th>\n",
       "      <td>5</td>\n",
       "      <td>1</td>\n",
       "      <td>1</td>\n",
       "      <td>1</td>\n",
       "      <td>1</td>\n",
       "      <td>1</td>\n",
       "      <td>23</td>\n",
       "      <td>21</td>\n",
       "      <td>41</td>\n",
       "      <td>53</td>\n",
       "      <td>89.377594</td>\n",
       "      <td>&gt;</td>\n",
       "    </tr>\n",
       "    <tr>\n",
       "      <th>4</th>\n",
       "      <td>5</td>\n",
       "      <td>1</td>\n",
       "      <td>1</td>\n",
       "      <td>1</td>\n",
       "      <td>1</td>\n",
       "      <td>1</td>\n",
       "      <td>0</td>\n",
       "      <td>20</td>\n",
       "      <td>64</td>\n",
       "      <td>53</td>\n",
       "      <td>90.004951</td>\n",
       "      <td>&gt;</td>\n",
       "    </tr>\n",
       "    <tr>\n",
       "      <th>4</th>\n",
       "      <td>5</td>\n",
       "      <td>1</td>\n",
       "      <td>1</td>\n",
       "      <td>1</td>\n",
       "      <td>1</td>\n",
       "      <td>1</td>\n",
       "      <td>22</td>\n",
       "      <td>20</td>\n",
       "      <td>31</td>\n",
       "      <td>52</td>\n",
       "      <td>95.968491</td>\n",
       "      <td>3.0</td>\n",
       "    </tr>\n",
       "    <tr>\n",
       "      <th>4</th>\n",
       "      <td>5</td>\n",
       "      <td>1</td>\n",
       "      <td>1</td>\n",
       "      <td>1</td>\n",
       "      <td>1</td>\n",
       "      <td>1</td>\n",
       "      <td>0</td>\n",
       "      <td>19</td>\n",
       "      <td>84</td>\n",
       "      <td>52</td>\n",
       "      <td>69.004425</td>\n",
       "      <td>3.0</td>\n",
       "    </tr>\n",
       "    <tr>\n",
       "      <th>4</th>\n",
       "      <td>5</td>\n",
       "      <td>1</td>\n",
       "      <td>1</td>\n",
       "      <td>1</td>\n",
       "      <td>1</td>\n",
       "      <td>1</td>\n",
       "      <td>22</td>\n",
       "      <td>19</td>\n",
       "      <td>61</td>\n",
       "      <td>54</td>\n",
       "      <td>83.309784</td>\n",
       "      <td>TÔ.</td>\n",
       "    </tr>\n",
       "    <tr>\n",
       "      <th>4</th>\n",
       "      <td>5</td>\n",
       "      <td>1</td>\n",
       "      <td>1</td>\n",
       "      <td>1</td>\n",
       "      <td>1</td>\n",
       "      <td>1</td>\n",
       "      <td>23</td>\n",
       "      <td>19</td>\n",
       "      <td>38</td>\n",
       "      <td>54</td>\n",
       "      <td>86.979332</td>\n",
       "      <td>ở</td>\n",
       "    </tr>\n",
       "    <tr>\n",
       "      <th>4</th>\n",
       "      <td>5</td>\n",
       "      <td>1</td>\n",
       "      <td>1</td>\n",
       "      <td>1</td>\n",
       "      <td>1</td>\n",
       "      <td>1</td>\n",
       "      <td>13</td>\n",
       "      <td>43</td>\n",
       "      <td>41</td>\n",
       "      <td>3</td>\n",
       "      <td>74.766228</td>\n",
       "      <td>_</td>\n",
       "    </tr>\n",
       "    <tr>\n",
       "      <th>4</th>\n",
       "      <td>5</td>\n",
       "      <td>1</td>\n",
       "      <td>1</td>\n",
       "      <td>1</td>\n",
       "      <td>1</td>\n",
       "      <td>1</td>\n",
       "      <td>0</td>\n",
       "      <td>61</td>\n",
       "      <td>1</td>\n",
       "      <td>4</td>\n",
       "      <td>35.292046</td>\n",
       "      <td>1.0</td>\n",
       "    </tr>\n",
       "    <tr>\n",
       "      <th>4</th>\n",
       "      <td>5</td>\n",
       "      <td>1</td>\n",
       "      <td>1</td>\n",
       "      <td>1</td>\n",
       "      <td>1</td>\n",
       "      <td>1</td>\n",
       "      <td>0</td>\n",
       "      <td>1</td>\n",
       "      <td>80</td>\n",
       "      <td>69</td>\n",
       "      <td>95.925018</td>\n",
       "      <td>2.0</td>\n",
       "    </tr>\n",
       "  </tbody>\n",
       "</table>\n",
       "</div>"
      ],
      "text/plain": [
       "   level  page_num  block_num  par_num  line_num  word_num  left  top  width  \\\n",
       "4      5         1          1        1         1         1    19   19     41   \n",
       "4      5         1          1        1         1         1    23   21     41   \n",
       "4      5         1          1        1         1         1     0   20     64   \n",
       "4      5         1          1        1         1         1    22   20     31   \n",
       "4      5         1          1        1         1         1     0   19     84   \n",
       "4      5         1          1        1         1         1    22   19     61   \n",
       "4      5         1          1        1         1         1    23   19     38   \n",
       "4      5         1          1        1         1         1    13   43     41   \n",
       "4      5         1          1        1         1         1     0   61      1   \n",
       "4      5         1          1        1         1         1     0    1     80   \n",
       "\n",
       "   height       conf text  \n",
       "4      53  92.985947    >  \n",
       "4      53  89.377594    >  \n",
       "4      53  90.004951    >  \n",
       "4      52  95.968491  3.0  \n",
       "4      52  69.004425  3.0  \n",
       "4      54  83.309784  TÔ.  \n",
       "4      54  86.979332    ở  \n",
       "4       3  74.766228    _  \n",
       "4       4  35.292046  1.0  \n",
       "4      69  95.925018  2.0  "
      ]
     },
     "execution_count": 22,
     "metadata": {},
     "output_type": "execute_result"
    }
   ],
   "source": [
    "tab"
   ]
  },
  {
   "cell_type": "code",
   "execution_count": null,
   "id": "17f94bd0",
   "metadata": {},
   "outputs": [],
   "source": []
  },
  {
   "cell_type": "code",
   "execution_count": null,
   "id": "3e350cfe",
   "metadata": {},
   "outputs": [],
   "source": []
  },
  {
   "cell_type": "code",
   "execution_count": null,
   "id": "1e0c6c26",
   "metadata": {},
   "outputs": [],
   "source": []
  }
 ],
 "metadata": {
  "kernelspec": {
   "display_name": "layout",
   "language": "python",
   "name": "python3"
  },
  "language_info": {
   "codemirror_mode": {
    "name": "ipython",
    "version": 3
   },
   "file_extension": ".py",
   "mimetype": "text/x-python",
   "name": "python",
   "nbconvert_exporter": "python",
   "pygments_lexer": "ipython3",
   "version": "3.10.18"
  }
 },
 "nbformat": 4,
 "nbformat_minor": 5
}
