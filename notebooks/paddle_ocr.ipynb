{
 "cells": [
  {
   "cell_type": "code",
   "execution_count": 15,
   "id": "1a1c975c",
   "metadata": {},
   "outputs": [
    {
     "ename": "ImportError",
     "evalue": "cannot import name 'PPStructure' from 'paddleocr' (/work/hpc/miniconda3/envs/layout/lib/python3.10/site-packages/paddleocr/__init__.py)",
     "output_type": "error",
     "traceback": [
      "\u001b[0;31m---------------------------------------------------------------------------\u001b[0m",
      "\u001b[0;31mImportError\u001b[0m                               Traceback (most recent call last)",
      "Cell \u001b[0;32mIn[15], line 3\u001b[0m\n\u001b[1;32m      1\u001b[0m \u001b[38;5;28;01mimport\u001b[39;00m\u001b[38;5;250m \u001b[39m\u001b[38;5;21;01mpaddle\u001b[39;00m\n\u001b[1;32m      2\u001b[0m \u001b[38;5;28;01mfrom\u001b[39;00m\u001b[38;5;250m \u001b[39m\u001b[38;5;21;01mpaddleocr\u001b[39;00m\u001b[38;5;250m \u001b[39m\u001b[38;5;28;01mimport\u001b[39;00m LayoutDetection\n\u001b[0;32m----> 3\u001b[0m \u001b[38;5;28;01mfrom\u001b[39;00m\u001b[38;5;250m \u001b[39m\u001b[38;5;21;01mpaddleocr\u001b[39;00m\u001b[38;5;250m \u001b[39m\u001b[38;5;28;01mimport\u001b[39;00m PPStructure\n\u001b[1;32m      4\u001b[0m \u001b[38;5;28;01mfrom\u001b[39;00m\u001b[38;5;250m \u001b[39m\u001b[38;5;21;01mpaddleocr\u001b[39;00m\u001b[38;5;21;01m.\u001b[39;00m\u001b[38;5;21;01mppstructure\u001b[39;00m\u001b[38;5;21;01m.\u001b[39;00m\u001b[38;5;21;01mutility\u001b[39;00m\u001b[38;5;250m \u001b[39m\u001b[38;5;28;01mimport\u001b[39;00m pdf2img\n\u001b[1;32m      5\u001b[0m imgs \u001b[38;5;241m=\u001b[39m pdf2img(pdf_path, dpi\u001b[38;5;241m=\u001b[39m\u001b[38;5;241m400\u001b[39m)\n",
      "\u001b[0;31mImportError\u001b[0m: cannot import name 'PPStructure' from 'paddleocr' (/work/hpc/miniconda3/envs/layout/lib/python3.10/site-packages/paddleocr/__init__.py)"
     ]
    }
   ],
   "source": [
    "import paddle\n",
    "from paddleocr import LayoutDetection\n",
    "from paddleocr import PPStructure\n",
    "from paddleocr.ppstructure.utility import pdf2img\n",
    "imgs = pdf2img(pdf_path, dpi=400)"
   ]
  },
  {
   "cell_type": "code",
   "execution_count": 2,
   "id": "44eafab7",
   "metadata": {},
   "outputs": [
    {
     "name": "stdout",
     "output_type": "stream",
     "text": [
      "/data/hpc/potato/ecoit_summer\n"
     ]
    }
   ],
   "source": [
    "%cd /data/hpc/potato/ecoit_summer/"
   ]
  },
  {
   "cell_type": "code",
   "execution_count": 4,
   "id": "92a0b7e7",
   "metadata": {},
   "outputs": [
    {
     "name": "stderr",
     "output_type": "stream",
     "text": [
      "\u001b[32mModel files already exist. Using cached files. To redownload, please delete the directory manually: `/data/hpc/potato/ecoit_summer/venv/.cache/paddle/official_models/PP-DocLayout-L`.\u001b[0m\n"
     ]
    }
   ],
   "source": [
    "model = LayoutDetection(model_name=\"PP-DocLayout-L\")"
   ]
  },
  {
   "cell_type": "code",
   "execution_count": null,
   "id": "236e39b7",
   "metadata": {},
   "outputs": [
    {
     "ename": "ModuleNotFoundError",
     "evalue": "No module named 'paddleocr.ppstructure'",
     "output_type": "error",
     "traceback": [
      "\u001b[0;31m---------------------------------------------------------------------------\u001b[0m",
      "\u001b[0;31mModuleNotFoundError\u001b[0m                       Traceback (most recent call last)",
      "Cell \u001b[0;32mIn[14], line 1\u001b[0m\n\u001b[0;32m----> 1\u001b[0m \u001b[38;5;28;01mfrom\u001b[39;00m\u001b[38;5;250m \u001b[39m\u001b[38;5;21;01mpaddleocr\u001b[39;00m\u001b[38;5;21;01m.\u001b[39;00m\u001b[38;5;21;01mppstructure\u001b[39;00m\u001b[38;5;21;01m.\u001b[39;00m\u001b[38;5;21;01mutility\u001b[39;00m\u001b[38;5;250m \u001b[39m\u001b[38;5;28;01mimport\u001b[39;00m pdf2img\n\u001b[1;32m      2\u001b[0m imgs \u001b[38;5;241m=\u001b[39m pdf2img(pdf_path, dpi\u001b[38;5;241m=\u001b[39m\u001b[38;5;241m400\u001b[39m)\n",
      "\u001b[0;31mModuleNotFoundError\u001b[0m: No module named 'paddleocr.ppstructure'"
     ]
    }
   ],
   "source": []
  },
  {
   "cell_type": "code",
   "execution_count": 12,
   "id": "b25d0ba9",
   "metadata": {},
   "outputs": [],
   "source": [
    "output = model.predict(r\"data/database/07_KT/2024.TTr phê duyệt TCKT Flycam.pdf\", batch_size=4, layout_nms=True, threshold=0.4)"
   ]
  },
  {
   "cell_type": "code",
   "execution_count": 13,
   "id": "7fe28570",
   "metadata": {},
   "outputs": [
    {
     "name": "stderr",
     "output_type": "stream",
     "text": [
      "\u001b[32m{'res': {'input_path': 'data/database/07_KT/2024.TTr phê duyệt TCKT Flycam.pdf', 'page_index': 0, 'boxes': [{'cls_id': 2, 'label': 'text', 'score': 0.9501001238822937, 'coordinate': [np.float32(134.80151), np.float32(426.96075), np.float32(1076.3243), np.float32(539.21277)]}, {'cls_id': 2, 'label': 'text', 'score': 0.9447906017303467, 'coordinate': [np.float32(134.75502), np.float32(548.49506), np.float32(1077.4817), np.float32(659.76556)]}, {'cls_id': 2, 'label': 'text', 'score': 0.9408647418022156, 'coordinate': [np.float32(133.6407), np.float32(751.68225), np.float32(1074.7228), np.float32(1020.03906)]}, {'cls_id': 2, 'label': 'text', 'score': 0.9305786490440369, 'coordinate': [np.float32(134.05495), np.float32(1152.7454), np.float32(1077.1877), np.float32(1221.6704)]}, {'cls_id': 2, 'label': 'text', 'score': 0.9297698736190796, 'coordinate': [np.float32(134.6879), np.float32(1393.7715), np.float32(1076.1187), np.float32(1465.4462)]}, {'cls_id': 2, 'label': 'text', 'score': 0.9245518445968628, 'coordinate': [np.float32(134.0952), np.float32(1070.4626), np.float32(1076.3956), np.float32(1141.671)]}, {'cls_id': 2, 'label': 'text', 'score': 0.9176469445228577, 'coordinate': [np.float32(133.75215), np.float32(1315.6715), np.float32(1077.4774), np.float32(1383.3038)]}, {'cls_id': 2, 'label': 'text', 'score': 0.8632970452308655, 'coordinate': [np.float32(205.52597), np.float32(1273.754), np.float32(769.7671), np.float32(1305.6584)]}, {'cls_id': 2, 'label': 'text', 'score': 0.8377763628959656, 'coordinate': [np.float32(135.08543), np.float32(1233.2983), np.float32(841.2446), np.float32(1265.172)]}, {'cls_id': 2, 'label': 'text', 'score': 0.8225222229957581, 'coordinate': [np.float32(134.00256), np.float32(1477.1226), np.float32(1073.353), np.float32(1544.9839)]}, {'cls_id': 2, 'label': 'text', 'score': 0.8117102980613708, 'coordinate': [np.float32(196.46977), np.float32(194.73398), np.float32(311.95648), np.float32(221.23701)]}, {'cls_id': 0, 'label': 'paragraph_title', 'score': 0.8018137812614441, 'coordinate': [np.float32(134.51294), np.float32(1031.5396), np.float32(458.47827), np.float32(1061.1201)]}, {'cls_id': 2, 'label': 'text', 'score': 0.7831012010574341, 'coordinate': [np.float32(672.8763), np.float32(196.34836), np.float32(1055.6858), np.float32(225.11772)]}, {'cls_id': 2, 'label': 'text', 'score': 0.7174021601676941, 'coordinate': [np.float32(135.80055), np.float32(1556.8229), np.float32(319.22113), np.float32(1586.3497)]}, {'cls_id': 13, 'label': 'header', 'score': 0.6812363266944885, 'coordinate': [np.float32(511.2943), np.float32(68.7074), np.float32(1052.2185), np.float32(130.90666)]}, {'cls_id': 2, 'label': 'text', 'score': 0.672461986541748, 'coordinate': [np.float32(206.533), np.float32(709.3381), np.float32(1074.2783), np.float32(743.8966)]}, {'cls_id': 2, 'label': 'text', 'score': 0.6584142446517944, 'coordinate': [np.float32(352.43024), np.float32(348.63837), np.float32(863.0122), np.float32(382.26044)]}, {'cls_id': 2, 'label': 'text', 'score': 0.6125189661979675, 'coordinate': [np.float32(160.32771), np.float32(68.62122), np.float32(417.11722), np.float32(162.10277)]}, {'cls_id': 0, 'label': 'paragraph_title', 'score': 0.5919153094291687, 'coordinate': [np.float32(135.30754), np.float32(666.38635), np.float32(603.2134), np.float32(698.0448)]}, {'cls_id': 2, 'label': 'text', 'score': 0.521579921245575, 'coordinate': [np.float32(162.43857), np.float32(249.91911), np.float32(1049.7756), np.float32(319.2329)]}]}}\u001b[0m\n"
     ]
    },
    {
     "name": "stderr",
     "output_type": "stream",
     "text": [
      "\u001b[32m{'res': {'input_path': 'data/database/07_KT/2024.TTr phê duyệt TCKT Flycam.pdf', 'page_index': 1, 'boxes': [{'cls_id': 2, 'label': 'text', 'score': 0.9363431334495544, 'coordinate': [np.float32(132.91327), np.float32(136.90343), np.float32(1076.9965), np.float32(245.96924)]}, {'cls_id': 2, 'label': 'text', 'score': 0.9306306838989258, 'coordinate': [np.float32(133.79584), np.float32(1306.1085), np.float32(1075.9758), np.float32(1414.2709)]}, {'cls_id': 2, 'label': 'text', 'score': 0.9233999252319336, 'coordinate': [np.float32(134.02951), np.float32(419.82996), np.float32(1076.8679), np.float32(489.13574)]}, {'cls_id': 2, 'label': 'text', 'score': 0.9229673147201538, 'coordinate': [np.float32(133.6413), np.float32(660.93774), np.float32(1077.5889), np.float32(767.2851)]}, {'cls_id': 2, 'label': 'text', 'score': 0.9188843369483948, 'coordinate': [np.float32(134.81755), np.float32(498.78854), np.float32(1076.7717), np.float32(568.05225)]}, {'cls_id': 2, 'label': 'text', 'score': 0.9185643792152405, 'coordinate': [np.float32(134.11963), np.float32(942.96295), np.float32(1075.6395), np.float32(1012.4471)]}, {'cls_id': 2, 'label': 'text', 'score': 0.9160850048065186, 'coordinate': [np.float32(134.64146), np.float32(338.57697), np.float32(1075.9838), np.float32(406.60315)]}, {'cls_id': 2, 'label': 'text', 'score': 0.9138953685760498, 'coordinate': [np.float32(134.19594), np.float32(863.2738), np.float32(1076.7715), np.float32(932.24316)]}, {'cls_id': 2, 'label': 'text', 'score': 0.9077666401863098, 'coordinate': [np.float32(134.22998), np.float32(1426.6199), np.float32(1075.8494), np.float32(1497.2081)]}, {'cls_id': 2, 'label': 'text', 'score': 0.8893468976020813, 'coordinate': [np.float32(133.90112), np.float32(256.53085), np.float32(1076.1298), np.float32(329.6575)]}, {'cls_id': 2, 'label': 'text', 'score': 0.8702616691589355, 'coordinate': [np.float32(133.95291), np.float32(1226.3859), np.float32(1076.405), np.float32(1296.032)]}, {'cls_id': 2, 'label': 'text', 'score': 0.8539031744003296, 'coordinate': [np.float32(136.82538), np.float32(1145.54), np.float32(529.73517), np.float32(1173.4624)]}, {'cls_id': 2, 'label': 'text', 'score': 0.8536557555198669, 'coordinate': [np.float32(136.03593), np.float32(1103.9882), np.float32(431.98334), np.float32(1131.9796)]}, {'cls_id': 2, 'label': 'text', 'score': 0.8394896388053894, 'coordinate': [np.float32(135.36938), np.float32(1548.0758), np.float32(568.57196), np.float32(1579.736)]}, {'cls_id': 2, 'label': 'text', 'score': 0.8379612565040588, 'coordinate': [np.float32(135.07214), np.float32(1066.3918), np.float32(389.9731), np.float32(1091.3612)]}, {'cls_id': 2, 'label': 'text', 'score': 0.8348097801208496, 'coordinate': [np.float32(135.68959), np.float32(822.70844), np.float32(1046.5135), np.float32(852.0902)]}, {'cls_id': 2, 'label': 'text', 'score': 0.8330878615379333, 'coordinate': [np.float32(136.29651), np.float32(782.5401), np.float32(529.1819), np.float32(810.86426)]}, {'cls_id': 2, 'label': 'text', 'score': 0.8329824209213257, 'coordinate': [np.float32(136.06636), np.float32(1508.1434), np.float32(481.7495), np.float32(1536.9923)]}, {'cls_id': 2, 'label': 'text', 'score': 0.8324334025382996, 'coordinate': [np.float32(136.2087), np.float32(582.3519), np.float32(449.4136), np.float32(609.8916)]}, {'cls_id': 2, 'label': 'text', 'score': 0.8170440793037415, 'coordinate': [np.float32(135.32527), np.float32(97.023605), np.float32(730.0586), np.float32(127.74348)]}, {'cls_id': 2, 'label': 'text', 'score': 0.8072249293327332, 'coordinate': [np.float32(135.80202), np.float32(1023.22186), np.float32(480.51422), np.float32(1053.209)]}, {'cls_id': 2, 'label': 'text', 'score': 0.7912530899047852, 'coordinate': [np.float32(135.61769), np.float32(622.92084), np.float32(386.5528), np.float32(647.3183)]}, {'cls_id': 2, 'label': 'text', 'score': 0.7876763343811035, 'coordinate': [np.float32(136.81693), np.float32(1184.8586), np.float32(1053.6951), np.float32(1214.554)]}, {'cls_id': 3, 'label': 'number', 'score': 0.637116551399231, 'coordinate': [np.float32(601.36145), np.float32(46.90553), np.float32(614.4781), np.float32(65.091095)]}]}}\u001b[0m\n",
      "\u001b[32m{'res': {'input_path': 'data/database/07_KT/2024.TTr phê duyệt TCKT Flycam.pdf', 'page_index': 2, 'boxes': [{'cls_id': 2, 'label': 'text', 'score': 0.970989465713501, 'coordinate': [np.float32(133.82712), np.float32(1306.274), np.float32(1075.9647), np.float32(1498.2872)]}, {'cls_id': 2, 'label': 'text', 'score': 0.9534720778465271, 'coordinate': [np.float32(134.54147), np.float32(940.8146), np.float32(1076.0317), np.float32(1054.5836)]}, {'cls_id': 2, 'label': 'text', 'score': 0.9329404830932617, 'coordinate': [np.float32(134.55177), np.float32(298.13678), np.float32(1076.641), np.float32(370.53577)]}, {'cls_id': 2, 'label': 'text', 'score': 0.9302860498428345, 'coordinate': [np.float32(134.4197), np.float32(701.19116), np.float32(1076.1464), np.float32(767.97754)]}, {'cls_id': 2, 'label': 'text', 'score': 0.9262012243270874, 'coordinate': [np.float32(135.06606), np.float32(216.6643), np.float32(1076.1816), np.float32(286.7952)]}, {'cls_id': 2, 'label': 'text', 'score': 0.9261972308158875, 'coordinate': [np.float32(134.38814), np.float32(1064.7312), np.float32(1077.2521), np.float32(1132.8796)]}, {'cls_id': 2, 'label': 'text', 'score': 0.9239394664764404, 'coordinate': [np.float32(134.99567), np.float32(1507.3655), np.float32(1076.0912), np.float32(1577.3593)]}, {'cls_id': 2, 'label': 'text', 'score': 0.920870304107666, 'coordinate': [np.float32(134.8168), np.float32(1183.5443), np.float32(1075.4268), np.float32(1253.7366)]}, {'cls_id': 2, 'label': 'text', 'score': 0.9180648326873779, 'coordinate': [np.float32(133.33888), np.float32(96.37956), np.float32(1072.8171), np.float32(168.49457)]}, {'cls_id': 2, 'label': 'text', 'score': 0.9140371680259705, 'coordinate': [np.float32(134.50764), np.float32(378.45337), np.float32(1074.0219), np.float32(449.1729)]}, {'cls_id': 2, 'label': 'text', 'score': 0.907647967338562, 'coordinate': [np.float32(134.37994), np.float32(781.7296), np.float32(1075.5293), np.float32(849.4182)]}, {'cls_id': 2, 'label': 'text', 'score': 0.8664562106132507, 'coordinate': [np.float32(136.49432), np.float32(580.9881), np.float32(855.3729), np.float32(611.9897)]}, {'cls_id': 2, 'label': 'text', 'score': 0.8607531189918518, 'coordinate': [np.float32(137.64864), np.float32(660.0651), np.float32(630.15576), np.float32(689.73126)]}, {'cls_id': 2, 'label': 'text', 'score': 0.8547083139419556, 'coordinate': [np.float32(134.0131), np.float32(538.21454), np.float32(994.105), np.float32(570.10187)]}, {'cls_id': 2, 'label': 'text', 'score': 0.8396485447883606, 'coordinate': [np.float32(136.24646), np.float32(900.25073), np.float32(796.666), np.float32(932.5262)]}, {'cls_id': 2, 'label': 'text', 'score': 0.8390706777572632, 'coordinate': [np.float32(137.08797), np.float32(620.0574), np.float32(687.1459), np.float32(650.7747)]}, {'cls_id': 2, 'label': 'text', 'score': 0.8365271687507629, 'coordinate': [np.float32(137.30743), np.float32(1142.864), np.float32(904.87335), np.float32(1174.5095)]}, {'cls_id': 2, 'label': 'text', 'score': 0.8016701340675354, 'coordinate': [np.float32(135.07849), np.float32(459.3107), np.float32(645.8253), np.float32(490.35712)]}, {'cls_id': 2, 'label': 'text', 'score': 0.7677634954452515, 'coordinate': [np.float32(136.94151), np.float32(860.1232), np.float32(591.7013), np.float32(891.00885)]}, {'cls_id': 2, 'label': 'text', 'score': 0.7087511420249939, 'coordinate': [np.float32(135.28017), np.float32(176.8358), np.float32(399.83655), np.float32(204.94531)]}, {'cls_id': 2, 'label': 'text', 'score': 0.6694690585136414, 'coordinate': [np.float32(130.91525), np.float32(501.47778), np.float32(344.6698), np.float32(528.2529)]}, {'cls_id': 3, 'label': 'number', 'score': 0.6664428114891052, 'coordinate': [np.float32(602.07074), np.float32(46.537132), np.float32(614.15283), np.float32(64.93418)]}, {'cls_id': 0, 'label': 'paragraph_title', 'score': 0.6350192427635193, 'coordinate': [np.float32(135.88821), np.float32(1267.2042), np.float32(462.93585), np.float32(1295.479)]}]}}\u001b[0m\n",
      "\u001b[32m{'res': {'input_path': 'data/database/07_KT/2024.TTr phê duyệt TCKT Flycam.pdf', 'page_index': 3, 'boxes': [{'cls_id': 2, 'label': 'text', 'score': 0.9035565257072449, 'coordinate': [np.float32(133.75172), np.float32(176.60207), np.float32(1077.6133), np.float32(249.05513)]}, {'cls_id': 2, 'label': 'text', 'score': 0.807288408279419, 'coordinate': [np.float32(207.4143), np.float32(137.50925), np.float32(803.02155), np.float32(165.14766)]}, {'cls_id': 0, 'label': 'paragraph_title', 'score': 0.7639642357826233, 'coordinate': [np.float32(135.61475), np.float32(96.45144), np.float32(517.43005), np.float32(124.91428)]}, {'cls_id': 2, 'label': 'text', 'score': 0.7088937759399414, 'coordinate': [np.float32(208.49658), np.float32(260.69003), np.float32(353.6184), np.float32(287.8847)]}, {'cls_id': 2, 'label': 'text', 'score': 0.6962342858314514, 'coordinate': [np.float32(238.28989), np.float32(615.6554), np.float32(980.3149), np.float32(650.8762)]}, {'cls_id': 2, 'label': 'text', 'score': 0.6295698881149292, 'coordinate': [np.float32(759.25775), np.float32(555.2196), np.float32(976.1297), np.float32(585.6018)]}, {'cls_id': 2, 'label': 'text', 'score': 0.6211047172546387, 'coordinate': [np.float32(139.98985), np.float32(360.90005), np.float32(443.12558), np.float32(384.53305)]}, {'cls_id': 2, 'label': 'text', 'score': 0.6120121479034424, 'coordinate': [np.float32(726.7143), np.float32(327.6704), np.float32(994.1264), np.float32(387.25906)]}, {'cls_id': 2, 'label': 'text', 'score': 0.6022719144821167, 'coordinate': [np.float32(140.5814), np.float32(392.3342), np.float32(351.07474), np.float32(413.98352)]}, {'cls_id': 2, 'label': 'text', 'score': 0.5850892066955566, 'coordinate': [np.float32(140.18095), np.float32(455.00424), np.float32(297.06058), np.float32(476.5437)]}, {'cls_id': 2, 'label': 'text', 'score': 0.5683680176734924, 'coordinate': [np.float32(174.6926), np.float32(329.34787), np.float32(285.755), np.float32(351.62408)]}, {'cls_id': 2, 'label': 'text', 'score': 0.5666983723640442, 'coordinate': [np.float32(140.421), np.float32(422.1935), np.float32(343.18732), np.float32(444.90906)]}, {'cls_id': 2, 'label': 'text', 'score': 0.4768056571483612, 'coordinate': [np.float32(139.47649), np.float32(331.9735), np.float32(443.55038), np.float32(476.66882)]}]}}\u001b[0m\n",
      "\u001b[32m{'res': {'input_path': 'data/database/07_KT/2024.TTr phê duyệt TCKT Flycam.pdf', 'page_index': 4, 'boxes': [{'cls_id': 8, 'label': 'table', 'score': 0.9878010749816895, 'coordinate': [np.float32(137.34296), np.float32(223.01045), np.float32(1114.2288), np.float32(1597.0905)]}, {'cls_id': 3, 'label': 'number', 'score': 0.6892071962356567, 'coordinate': [np.float32(602.80164), np.float32(47.714474), np.float32(613.79034), np.float32(64.884026)]}, {'cls_id': 9, 'label': 'table_title', 'score': 0.5496729612350464, 'coordinate': [np.float32(556.3929), np.float32(99.23283), np.float32(660.3233), np.float32(121.861725)]}]}}\u001b[0m\n",
      "\u001b[32m{'res': {'input_path': 'data/database/07_KT/2024.TTr phê duyệt TCKT Flycam.pdf', 'page_index': 5, 'boxes': [{'cls_id': 8, 'label': 'table', 'score': 0.9883069396018982, 'coordinate': [np.float32(137.31512), np.float32(99.433304), np.float32(1115.2329), np.float32(1568.5967)]}, {'cls_id': 3, 'label': 'number', 'score': 0.6527512073516846, 'coordinate': [np.float32(602.87146), np.float32(47.895836), np.float32(614.42053), np.float32(64.86136)]}]}}\u001b[0m\n",
      "\u001b[32m{'res': {'input_path': 'data/database/07_KT/2024.TTr phê duyệt TCKT Flycam.pdf', 'page_index': 6, 'boxes': [{'cls_id': 8, 'label': 'table', 'score': 0.9888219833374023, 'coordinate': [np.float32(137.8983), np.float32(99.470116), np.float32(1113.987), np.float32(1534.6488)]}, {'cls_id': 3, 'label': 'number', 'score': 0.750877857208252, 'coordinate': [np.float32(602.38007), np.float32(46.64645), np.float32(614.5731), np.float32(64.60328)]}]}}\u001b[0m\n",
      "\u001b[32m{'res': {'input_path': 'data/database/07_KT/2024.TTr phê duyệt TCKT Flycam.pdf', 'page_index': 7, 'boxes': [{'cls_id': 8, 'label': 'table', 'score': 0.9834820032119751, 'coordinate': [np.float32(138.17833), np.float32(98.84391), np.float32(1114.2075), np.float32(1582.343)]}, {'cls_id': 3, 'label': 'number', 'score': 0.6906098127365112, 'coordinate': [np.float32(602.6934), np.float32(47.2304), np.float32(614.7715), np.float32(64.73401)]}]}}\u001b[0m\n",
      "\u001b[32m{'res': {'input_path': 'data/database/07_KT/2024.TTr phê duyệt TCKT Flycam.pdf', 'page_index': 8, 'boxes': [{'cls_id': 8, 'label': 'table', 'score': 0.9833570718765259, 'coordinate': [np.float32(138.16533), np.float32(98.45794), np.float32(1114.8341), np.float32(1565.9646)]}, {'cls_id': 3, 'label': 'number', 'score': 0.6984187364578247, 'coordinate': [np.float32(602.43445), np.float32(47.039776), np.float32(614.6061), np.float32(64.112686)]}]}}\u001b[0m\n",
      "\u001b[32m{'res': {'input_path': 'data/database/07_KT/2024.TTr phê duyệt TCKT Flycam.pdf', 'page_index': 9, 'boxes': [{'cls_id': 8, 'label': 'table', 'score': 0.9899842739105225, 'coordinate': [np.float32(137.93643), np.float32(99.71191), np.float32(1115.248), np.float32(1530.7313)]}, {'cls_id': 3, 'label': 'number', 'score': 0.7301477789878845, 'coordinate': [np.float32(597.97485), np.float32(46.58323), np.float32(621.4623), np.float32(64.55985)]}]}}\u001b[0m\n",
      "\u001b[32m{'res': {'input_path': 'data/database/07_KT/2024.TTr phê duyệt TCKT Flycam.pdf', 'page_index': 10, 'boxes': [{'cls_id': 8, 'label': 'table', 'score': 0.991385817527771, 'coordinate': [np.float32(137.86494), np.float32(100.348656), np.float32(1115.238), np.float32(1557.43)]}, {'cls_id': 3, 'label': 'number', 'score': 0.6736265420913696, 'coordinate': [np.float32(597.3791), np.float32(46.654533), np.float32(620.4061), np.float32(64.69238)]}]}}\u001b[0m\n",
      "\u001b[32m{'res': {'input_path': 'data/database/07_KT/2024.TTr phê duyệt TCKT Flycam.pdf', 'page_index': 11, 'boxes': [{'cls_id': 8, 'label': 'table', 'score': 0.9850381016731262, 'coordinate': [np.float32(137.90732), np.float32(97.254456), np.float32(1113.9884), np.float32(406.40182)]}, {'cls_id': 3, 'label': 'number', 'score': 0.4396200478076935, 'coordinate': [np.float32(597.81824), np.float32(46.001804), np.float32(621.17566), np.float32(65.32024)]}]}}\u001b[0m\n",
      "\u001b[32m{'res': {'input_path': 'data/database/07_KT/2024.TTr phê duyệt TCKT Flycam.pdf', 'page_index': 12, 'boxes': [{'cls_id': 8, 'label': 'table', 'score': 0.9880074262619019, 'coordinate': [np.float32(138.43495), np.float32(221.87434), np.float32(1077.6255), np.float32(1210.2535)]}, {'cls_id': 3, 'label': 'number', 'score': 0.726149320602417, 'coordinate': [np.float32(597.30023), np.float32(46.226074), np.float32(620.2415), np.float32(64.54524)]}, {'cls_id': 2, 'label': 'text', 'score': 0.5471367835998535, 'coordinate': [np.float32(314.61133), np.float32(100.81775), np.float32(900.4463), np.float32(188.0282)]}, {'cls_id': 9, 'label': 'table_title', 'score': 0.40035539865493774, 'coordinate': [np.float32(553.994), np.float32(99.185745), np.float32(660.70233), np.float32(122.68583)]}]}}\u001b[0m\n"
     ]
    }
   ],
   "source": [
    "for res in output:\n",
    "    res.print()\n",
    "    res.save_to_img(save_path=\"/data/hpc/potato/ecoit_summer/notebooks/test/\")\n",
    "    res.save_to_json(save_path=\"/data/hpc/potato/ecoit_summer/notebooks/test/res.json\")"
   ]
  },
  {
   "cell_type": "code",
   "execution_count": null,
   "id": "3d29813b",
   "metadata": {},
   "outputs": [
    {
     "name": "stderr",
     "output_type": "stream",
     "text": [
      "UsageError: Line magic function `%paddle2onnx` not found.\n"
     ]
    }
   ],
   "source": [
    "%paddle2onnx --model_dir /data/hpc/potato/ecoit_summer/venv/.cache/paddle/official_models/P"
   ]
  },
  {
   "cell_type": "code",
   "execution_count": null,
   "id": "69acc6a7",
   "metadata": {},
   "outputs": [],
   "source": []
  }
 ],
 "metadata": {
  "kernelspec": {
   "display_name": "layout",
   "language": "python",
   "name": "python3"
  },
  "language_info": {
   "codemirror_mode": {
    "name": "ipython",
    "version": 3
   },
   "file_extension": ".py",
   "mimetype": "text/x-python",
   "name": "python",
   "nbconvert_exporter": "python",
   "pygments_lexer": "ipython3",
   "version": "3.10.18"
  }
 },
 "nbformat": 4,
 "nbformat_minor": 5
}
