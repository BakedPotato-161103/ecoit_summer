{
 "cells": [
  {
   "cell_type": "code",
   "execution_count": 184,
   "id": "8dd27751",
   "metadata": {},
   "outputs": [],
   "source": [
    "import fitz  # PyMuPDF\n",
    "\n",
    "def extract_text_from_pdf(pdf_path):\n",
    "    text = \"\"\n",
    "    with fitz.open(pdf_path) as doc:\n",
    "        for page in doc:\n",
    "            text += page.get_text(\"text\")\n",
    "    return text"
   ]
  },
  {
   "cell_type": "code",
   "execution_count": 298,
   "id": "38661d4f",
   "metadata": {},
   "outputs": [],
   "source": [
    "import pdfplumber\n",
    "def iou(bbox1, bbox2, left=False):\n",
    "    \"\"\"\n",
    "    Calculate the Intersection over Union (IoU) of two bounding boxes.\n",
    "    bbox1 and bbox2 are tuples of (x0, y0, x1, y1).\n",
    "    \"\"\"\n",
    "    x0 = max(bbox1[0], bbox2[0])\n",
    "    y0 = max(bbox1[1], bbox2[1])\n",
    "    x1 = min(bbox1[2], bbox2[2])\n",
    "    y1 = min(bbox1[3], bbox2[3])\n",
    "\n",
    "    intersection_area = max(0, x1 - x0) * max(0, y1 - y0)\n",
    "    bbox1_area = (bbox1[2] - bbox1[0]) * (bbox1[3] - bbox1[1])\n",
    "    bbox2_area = (bbox2[2] - bbox2[0]) * (bbox2[3] - bbox2[1])\n",
    "\n",
    "    union_area = bbox1_area + bbox2_area - intersection_area if not left else bbox1_area\n",
    "    return intersection_area / union_area if union_area > 0 else 0\n",
    "\n",
    "def detect_paragraphs(pdf_path):\n",
    "    paragraphs = []\n",
    "    all_tables = []\n",
    "    with pdfplumber.open(pdf_path) as pdf:\n",
    "        print(len(pdf.pages))\n",
    "        for page_number, page in enumerate(pdf.pages):\n",
    "            # Extract text lines with their bounding boxes\n",
    "            tables = page.find_tables()\n",
    "            table_areas = []\n",
    "            words = page.extract_words(x_tolerance= 1., \n",
    "                                        y_tolerance=1.35,\n",
    "                                        keep_blank_chars=True, \n",
    "                                        use_text_flow=True)\n",
    "            # If the page has tables, we can extract text from them\n",
    "            for table_index, table in enumerate(tables):\n",
    "                table_bbox = table.bbox\n",
    "                table_areas.append(table_bbox)\n",
    "                table_data = []\n",
    "                for row in table.rows: \n",
    "                    row_data = []\n",
    "                    print(row.cells)\n",
    "                    for cell in row.cells:\n",
    "                        print(cell)\n",
    "                        if cell is None:\n",
    "                            row_data.append(\"\")\n",
    "                            continue\n",
    "                        cell_words = [w for w in words if iou([w['x0'], w['top'], w['x1'], w['bottom']], cell, left=True) >= 0.9]\n",
    "                        cell_text = \" \".join([w['text'] for w in cell_words])\n",
    "                        row_data.append(cell_text)\n",
    "                    table_data.append(row_data)\n",
    "                all_tables.append(table_data)\n",
    "            \n",
    "            current_paragraph_words = []\n",
    "            for i, word in enumerate(words):\n",
    "                valid = True\n",
    "                for bbox in table_areas:\n",
    "                    word_bbox = [word['x0'], word['top'], word['x1'], word['bottom']]\n",
    "                    # Check if the line intersects with any table area\n",
    "                    if (iou(word_bbox, bbox, left=True) > 0.8):\n",
    "                        # If it does, we skip adding this line to paragraphs\n",
    "                        valid = False\n",
    "                        break\n",
    "                    else:\n",
    "                        print(line['text'], word_bbox, bbox, iou(word_bbox, bbox, left=True))\n",
    "                if not valid:\n",
    "                    print(f\"Skipping line due to table intersection: {word['text']}\")\n",
    "                    continue\n",
    "                current_paragraph_words.append(word['text'])\n",
    "                # Heuristic: Check for a significant vertical jump or end of page\n",
    "                if i + 1 < len(words):\n",
    "                    next_word = words[i+1]\n",
    "                    # Adjust threshold based on typical line spacing in your PDFs\n",
    "                    if next_word['top'] - word['bottom'] > 0.5 * word['height']:\n",
    "                        paragraphs.append(\" \".join(current_paragraph_words))\n",
    "                        current_paragraph_words = []\n",
    "                else: # End of page\n",
    "                    paragraphs.append(\" \".join(current_paragraph_words))\n",
    "\n",
    "    return paragraphs, all_tables # Print the first 500 characters of the extracted text"
   ]
  },
  {
   "cell_type": "code",
   "execution_count": 299,
   "id": "ead8efb4",
   "metadata": {},
   "outputs": [
    {
     "name": "stdout",
     "output_type": "stream",
     "text": [
      "3\n"
     ]
    }
   ],
   "source": [
    "pdf_text, tables = detect_paragraphs(r\"C:\\ecoit_summer\\data\\Mẫu phê duyệt tờ trình của KT (đơn giản)\\03. Báo cáo thẩm tra.pdf\")"
   ]
  },
  {
   "cell_type": "code",
   "execution_count": 300,
   "id": "2a8f755d",
   "metadata": {},
   "outputs": [
    {
     "name": "stdout",
     "output_type": "stream",
     "text": [
      "TỔNG CÔNG TY  ĐIỆN LỰC TP HÀ NỘI BAN TỔNG HỢP  CỘNG HOÀ XÃ HỘI CHỦ NGHĨA VIỆT NAM Độc lập - Tự do - Hạnh phúc              Hà Nội, ngày 24 tháng 01 năm 2025  \n",
      "BÁO CÁO THẨM TRA Về việc thông qua chủ trương ban hành Tiêu chuẩn kỹ thuật thiết bị bay không người lái (UAV) trong Tổng công ty Điện lực TP Hà Nội  Kính gửi: Hội đồng Thành viên Tổng Công ty Điện lực TP Hà Nội.   Căn cứ Quyết định số 401/QĐ-EVN ngày 14/10/2019 của Hội đồng thành viên Tập đoàn Điện lực Việt Nam về việc phê duyệt Điều lệ Tổ chức và hoạt động của Tổng công ty Điện lực TP Hà Nội\n",
      " Quyết định số 118/QĐ- HĐTV ngày 05/8/2022 của Hội đồng thành viên Tập đoàn Điện lực Việt Nam về việc sửa đổi, bổ sung Điều lệ tổ chức và hoạt động của Tổng công ty Điện lực TP Hà Nội\n",
      "  Căn cứ Quyết định số 123/QĐ-HĐTV ngày 01/10/2021 của Hội đồng thành viên Tập đoàn Điện lực Việt Nam về việc ban hành Quy chế Quản trị trong Tập đoàn Điện lực Quốc gia Việt Nam\n",
      "  Căn cứ Quyết định số 03/QĐ-HĐTV ngày 01/10/2019 của Hội đồng thành viên Tổng công ty Điện lực TP Hà Nội về việc thành lập Ban Tổng hợp thuộc Hội đồng thành viên Tổng công ty và chức năng, nhiệm vụ và cơ cấu tổ chức của Ban Tổng hợp\n",
      "  Căn cứ Quyết định số 153/QĐ-HĐTV ngày 16/5/2023 của Hội đồng thành viên Tổng công ty Điện lực TP Hà Nội về việc ban hành Quy định làm việc, phân cấp giữa Hội đồng thành viên và Tổng Giám đốc trong Tổng công ty Điện lực TP Hà Nội\n",
      "  Căn cứ Quyết định số 217/QĐ-HĐTV ngày 25/6/2024 của Hội đồng thành viên Tổng công ty Điện lực TP Hà Nội về việc phân công nhiệm vụ trong Hội đồng thành viên Tổng công ty điện lực TP Hà Nội\n",
      " Căn cứ Tờ trình số 198/TTr-EVNHANOI ngày 08/01/2025 của Tổng giám đốc về việc phê duyệt tiêu chuẩn kỹ thuật thiết bị bay không người lái (UAV). Ban Tổng hợp kính báo cáo Hội đồng thành viên kết quả thẩm tra nội dung Tờ trình nêu trên của Tổng Giám đốc, cụ thể như sau: I. Cơ sở Thẩm tra: 1. Quyết định số 123/QĐ-HĐTV ngày 01/10/2021 của Tập đoàn Điện lực Việt Nam về việc ban hành Quy chế Quản trị trong Tập đoàn Điện lực Quốc gia Việt Nam. \n",
      "2. Nghị quyết số 180/NQ-HĐTV ngày 22/11/2023 của Hội đồng thành viên Tổng công ty Điện lực TP Hà Nội về việc thông qua chủ trương giao danh mục chuẩn bị đầu tư các công trình đầu tư phát triển đợt 2 năm 2024. 3. Tờ trình số 2006/EVNHANOIHGC-KTVH ngày 27/5/2024 của Công ty lưới điện cao thế TP Hà Nội về việc phê duyệt tiêu chuẩn kỹ thuật vật tư, thiết bị. 4. Tờ trình số 07/KT ngày 07/01/2025 của Ban Kỹ thuật về việc phê duyệt tiêu chuẩn kỹ thuật thiết bị bay không người lái đã được Phó Tổng giám đốc phê duyệt. 5. Tờ trình số 198/TTr-EVNHANOI ngày 08/01/2025 của Tổng giám đốc về việc phê duyệt tiêu chuẩn kỹ thuật thiết bị bay không người lái (UAV). 6. Các văn bản, tài liệu khác có liên quan. II. Kết quả Thẩm tra:  - “Mua sắm và vận hành thí điểm 04 bộ thiết bị máy bay không người lái (UAV) phục vụ kiểm tra đường dây 220/110kV” nằm trong danh mục mua sắm đợt 2 năm 2024 giao Công ty lưới điện cao thế TP Hà Nội thực hiện theo Quyết định số 8594/QĐ-EVNHANOI ngày 06/12/2023 của Tổng Công ty Điện lực TP Hà Nội sau khi được Hội đồng thành viên Tổng công ty thông qua tại Nghị quyết số 180/NQ-HĐTV ngày 22/11/2023 của Hội đồng thành viên Tổng công ty Điện lực TP Hà Nội về việc thông qua chủ trương giao danh mục chuẩn bị đầu tư các công trình đầu tư phát triển đợt 2 năm 2024. - Thông qua tiêu chuẩn thiết bị bay không người lái (UAV) phù hợp với thẩm quyền của Hội đồng thành viên tại khoản 1, Điều 33, Chương VI. Phân cấp trong công tác quản lý kỹ thuật, an toàn tại Quyết định số 153/QĐ-HĐTV ngày 16/5/2023 của Hội đồng thành viên Tổng công ty Điện lực TP Hà Nội về việc ban hành Quy định làm việc, phân cấp giữa Hội đồng thành viên và Tổng Giám đốc trong Tổng công ty Điện lực TP Hà Nội. - Tiêu chuẩn kỹ thuật thiết bị bay không người lái (UAV) chưa được Tổng công ty xây dựng và ban hành trước đây\n",
      " chính vì vậy, trong quá trình mua sắm Công ty lưới điện cao thế TP Hà Nội đã đề nghị Tổng công ty xem xét phê duyệt tiêu chuẩn kỹ thuật trên cơ sở tiêu chuẩn kỹ thuật do đơn vị tư vấn lập dựa trên một số thiết bị bay thông dụng trên thị trường theo Văn bản số 2006/EVNHANOIHGC-KTVH ngày 27/5/2024 của Công ty lưới điện cao thế TP Hà Nội về việc phê duyệt tiêu chuẩn kỹ thuật vật tư, thiết bị. - Ban Kỹ thuật đã gửi Công văn tới các nhà phân phối và cung cấp có uy tín trên thị trường, bao gồm 04 đơn vị: + Công ty CP Thương mại VJO Việt Nam\n",
      "  + Công ty TNHH Apex Tech Việt Nam\n",
      " + Công ty Cổ phần dịch vụ nông nghiệp MAJ\n",
      " + Công ty CP Thiết bị Thắng Lợi\n",
      "  \n",
      "Sau khi lấy ý kiến đã có 02 đơn vị gửi Công văn phúc đáp là Công ty TNHH Apex Tech Việt Nam và Công ty Cổ phần dịch vụ nông nghiệp MAJ. - Tiêu chuẩn kỹ thuật thiết bị bay không người lái (UAV) đã được Ban Kỹ thuật rà soát, hiệu chỉnh, kiểm tra và trình Phó Tổng Giám đốc phê duyệt theo đúng quy định tại Tờ trình số 07/KT ngày 07/01/2025. - Các tiêu chuẩn kỹ thuật thiết bị bay không người lái (UAV) cơ bản đáp ứng tiêu chuẩn vận hành, tiêu chuẩn bao gồm các nội dung: + Thiết bị bay không người lái cơ bản\n",
      " + Bộ điều khiển UAV\n",
      " + Bộ gá tải\n",
      " + Camera ảnh màu\n",
      " + Camera nhiệt\n",
      " + Pin cho máy bay\n",
      " + Bộ sạc cho thiết bị bay\n",
      " + Phụ kiện kèm theo máy bay\n",
      " + Các yêu cầu khác, dịch vụ, phần mềm điều khiển, tài liệu kèm theo… (Chi tiết theo Phụ lục Tờ trình số 198/TTr-EVNHANOI ngày 08/01/2025) - Một số nội dung kiến nghị Hội đồng thành viên yêu cầu các Ban chức năng hiệu chỉnh trước khi ban hành, cụ thể:  + Đề nghị xem xét thống nhất các cụm từ “máy bay”, “thiết bị bay” trong tiêu chuẩn\n",
      " + Do đây là tiêu chuẩn kỹ thuật thiết bị chưa phải tiêu chuẩn kỹ thuật trong Hồ sơ mời thầu nên cần loại bỏ các yếu tố liên quan đến công tác đấu thầu như “Nhà thầu”, “Hồ sơ dự thầu”. III. Kết luận: Căn cứ kết quả thẩm tra biên chế hồ sơ và nội dung Tờ trình số 198/TTr- EVNHANOI ngày 08/01/2025 của Tổng giám đốc, Ban Tổng hợp kính trình Hội đồng thành viên xem xét thông qua chủ trương ban hành Tiêu chuẩn kỹ thuật thiết bị bay không người lái (UAV) trong Tổng công ty Điện lực TP Hà Nội./.       \n",
      "Nơi nhận: - Như trên\n",
      " - Lưu: TH.  NGƯỜI THẨM TRA      Hà Tuấn Minh  TRƯỞNG BAN      Đoàn Đức Tiến \n",
      "   \n"
     ]
    }
   ],
   "source": [
    "for p in pdf_text:   \n",
    "    print(p.replace(\";\", \"\\n\").replace(\"  \", \" \")) "
   ]
  },
  {
   "cell_type": "code",
   "execution_count": 240,
   "id": "4fca6d24",
   "metadata": {},
   "outputs": [
    {
     "ename": "IndexError",
     "evalue": "list index out of range",
     "output_type": "error",
     "traceback": [
      "\u001b[1;31m---------------------------------------------------------------------------\u001b[0m",
      "\u001b[1;31mIndexError\u001b[0m                                Traceback (most recent call last)",
      "Cell \u001b[1;32mIn[240], line 1\u001b[0m\n\u001b[1;32m----> 1\u001b[0m \u001b[38;5;28;01mfor\u001b[39;00m row \u001b[38;5;129;01min\u001b[39;00m \u001b[43mtables\u001b[49m\u001b[43m[\u001b[49m\u001b[38;5;241;43m0\u001b[39;49m\u001b[43m]\u001b[49m:\n\u001b[0;32m      2\u001b[0m     \u001b[38;5;28mprint\u001b[39m(row[\u001b[38;5;241m1\u001b[39m], \u001b[38;5;124m\"\u001b[39m\u001b[38;5;124m-\u001b[39m\u001b[38;5;124m\"\u001b[39m, row[\u001b[38;5;241m4\u001b[39m], \u001b[38;5;124m\"\u001b[39m\u001b[38;5;124m-\u001b[39m\u001b[38;5;124m\"\u001b[39m, row[\u001b[38;5;241m10\u001b[39m])\n",
      "\u001b[1;31mIndexError\u001b[0m: list index out of range"
     ]
    }
   ],
   "source": []
  },
  {
   "cell_type": "code",
   "execution_count": 226,
   "id": "7658ba70",
   "metadata": {},
   "outputs": [],
   "source": [
    "import copy\n",
    "executed = ['', '', '']\n",
    "res_table = []\n",
    "for row in tables[0]:\n",
    "    row_data = [row[1], row[4], row[10]]\n",
    "    row_data = ['' + data for data in row_data]\n",
    "    if row_data[0] != '':\n",
    "        if executed[0] != '' and row_data[0] != executed[0]:\n",
    "            res_table.append(executed)\n",
    "            executed = ['', '', '']\n",
    "\n",
    "        if '.' not in row_data[0]:\n",
    "            res_table.append(row_data)\n",
    "            # executed = row_data\n",
    "            continue\n",
    "    \n",
    "    for index, data in enumerate(row_data):\n",
    "        if executed[index] != '' and data != '':\n",
    "            executed[index] += ' '\n",
    "        executed[index] += data"
   ]
  },
  {
   "cell_type": "code",
   "execution_count": null,
   "id": "54786e39",
   "metadata": {},
   "outputs": [],
   "source": []
  },
  {
   "cell_type": "code",
   "execution_count": null,
   "id": "909d5dce",
   "metadata": {},
   "outputs": [],
   "source": [
    "import pdfplumber\n",
    "\n",
    "pdf_path = r\"C:\\ecoit_summer\\data\\Mẫu phê duyệt tờ trình của KT (đơn giản)\\03. 1phiếu trình.pdf\"\n",
    "\n",
    "full_text = \"\"\n",
    "with pdfplumber.open(pdf_path) as pdf:\n",
    "    for page in pdf.pages:\n",
    "        # Extract text with layout (preserve whitespace)\n",
    "        page_text = page.extract_text(x_tolerance=1, y_tolerance=1, layout=True)\n",
    "        if page_text:\n",
    "            full_text += page_text + \"\\n\\n\"\n",
    "\n",
    "print(full_text)"
   ]
  }
 ],
 "metadata": {
  "kernelspec": {
   "display_name": "Python 3",
   "language": "python",
   "name": "python3"
  },
  "language_info": {
   "codemirror_mode": {
    "name": "ipython",
    "version": 3
   },
   "file_extension": ".py",
   "mimetype": "text/x-python",
   "name": "python",
   "nbconvert_exporter": "python",
   "pygments_lexer": "ipython3",
   "version": "3.10.11"
  }
 },
 "nbformat": 4,
 "nbformat_minor": 5
}
